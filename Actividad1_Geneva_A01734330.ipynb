{
  "nbformat": 4,
  "nbformat_minor": 0,
  "metadata": {
    "colab": {
      "provenance": [],
      "collapsed_sections": []
    },
    "kernelspec": {
      "name": "python3",
      "display_name": "Python 3"
    },
    "language_info": {
      "name": "python"
    }
  },
  "cells": [
    {
      "cell_type": "code",
      "execution_count": 188,
      "metadata": {
        "id": "CKGIEL58dRzn"
      },
      "outputs": [],
      "source": [
        "import pandas as pd\n",
        "import numpy as np\n",
        "import matplotlib.pyplot as plt\n",
        "import seaborn as sns"
      ]
    },
    {
      "cell_type": "code",
      "source": [
        "df=pd.read_csv(\"GENEVA.csv\")\n",
        "df"
      ],
      "metadata": {
        "id": "Ul3PQMXAd5XB",
        "colab": {
          "base_uri": "https://localhost:8080/",
          "height": 1000
        },
        "outputId": "d6fbdb5c-7237-4ec3-e019-5311f6cab0df"
      },
      "execution_count": 189,
      "outputs": [
        {
          "output_type": "execute_result",
          "data": {
            "text/plain": [
              "                      id                                      listing_url  \\\n",
              "0               53060989            https://www.airbnb.com/rooms/53060989   \n",
              "1     588150356748050196  https://www.airbnb.com/rooms/588150356748050196   \n",
              "2     593087126941169126  https://www.airbnb.com/rooms/593087126941169126   \n",
              "3     592692800643063760  https://www.airbnb.com/rooms/592692800643063760   \n",
              "4               53636749            https://www.airbnb.com/rooms/53636749   \n",
              "...                  ...                                              ...   \n",
              "3365            22745250            https://www.airbnb.com/rooms/22745250   \n",
              "3366              709866              https://www.airbnb.com/rooms/709866   \n",
              "3367            26886855            https://www.airbnb.com/rooms/26886855   \n",
              "3368            44934065            https://www.airbnb.com/rooms/44934065   \n",
              "3369  701221448037756093  https://www.airbnb.com/rooms/701221448037756093   \n",
              "\n",
              "           scrape_id last_scraped           source  \\\n",
              "0     20220922191353   2022-09-22  previous scrape   \n",
              "1     20220922191353   2022-09-22  previous scrape   \n",
              "2     20220922191353   2022-09-22  previous scrape   \n",
              "3     20220922191353   2022-09-22  previous scrape   \n",
              "4     20220922191353   2022-09-22  previous scrape   \n",
              "...              ...          ...              ...   \n",
              "3365  20220922191353   2022-09-23      city scrape   \n",
              "3366  20220922191353   2022-09-22      city scrape   \n",
              "3367  20220922191353   2022-09-23      city scrape   \n",
              "3368  20220922191353   2022-09-22      city scrape   \n",
              "3369  20220922191353   2022-09-22      city scrape   \n",
              "\n",
              "                                                   name  \\\n",
              "0               Bnb2you Apartment with view near Geneva   \n",
              "1      Superbe, 50m de la frontière, résidence, parking   \n",
              "2       Bnb2 You Private room n2 in roommate appartment   \n",
              "3          Bnb2you Private Room n1 In Coloc Design near   \n",
              "4      MajorBnB Well Located Deco Apartment near Geneva   \n",
              "...                                                 ...   \n",
              "3365  Convenient spacious cosy appartement with balcony   \n",
              "3366                Big, bright and cosy room in  villa   \n",
              "3367                   CHARMANT T2 AUX PORTES DE GENÈVE   \n",
              "3368                                      3 room appart   \n",
              "3369             Comfortable 2 room place in nice house   \n",
              "\n",
              "                                            description neighborhood_overview  \\\n",
              "0     Renovated luxury apartment overlooking the Jur...                   NaN   \n",
              "1     Très bel appartement avec terrasse de 25m2 et ...                   NaN   \n",
              "2     Private room in a 3-bedroom shared apartment. ...                   NaN   \n",
              "3     Private room in a 3-bedroom shared apartment. ...                   NaN   \n",
              "4     Deco apartment well located in the city center...                   NaN   \n",
              "...                                                 ...                   ...   \n",
              "3365  Appartement lumineux, spacieux et confortable ...                   NaN   \n",
              "3366  <b>The space</b><br />Big, bright and cosy roo...                   NaN   \n",
              "3367  Situé au centre ville d'Annemasse, à 2mn à pie...                   NaN   \n",
              "3368  About the flat :<br />The flat is a 3-room  ap...                   NaN   \n",
              "3369  Close to Geneva, the house is located in a nic...                   NaN   \n",
              "\n",
              "                                            picture_url    host_id  ...  \\\n",
              "0     https://a0.muscache.com/pictures/prohost-api/H...  313578602  ...   \n",
              "1     https://a0.muscache.com/pictures/miso/Hosting-...   46143912  ...   \n",
              "2     https://a0.muscache.com/pictures/prohost-api/H...  313578602  ...   \n",
              "3     https://a0.muscache.com/pictures/prohost-api/H...  313578602  ...   \n",
              "4     https://a0.muscache.com/pictures/prohost-api/H...  313578602  ...   \n",
              "...                                                 ...        ...  ...   \n",
              "3365  https://a0.muscache.com/pictures/8f9b04de-32db...   13027886  ...   \n",
              "3366  https://a0.muscache.com/pictures/9578383/93575...    2857694  ...   \n",
              "3367  https://a0.muscache.com/pictures/a91b63bd-3404...  202134455  ...   \n",
              "3368  https://a0.muscache.com/pictures/68a72929-edc0...  236949169  ...   \n",
              "3369  https://a0.muscache.com/pictures/miso/Hosting-...   31775625  ...   \n",
              "\n",
              "     review_scores_communication review_scores_location review_scores_value  \\\n",
              "0                           4.14                   4.71                4.29   \n",
              "1                            NaN                    NaN                 NaN   \n",
              "2                            NaN                    NaN                 NaN   \n",
              "3                           1.00                   3.00                1.00   \n",
              "4                           5.00                   5.00                4.00   \n",
              "...                          ...                    ...                 ...   \n",
              "3365                        5.00                   4.33                4.33   \n",
              "3366                        4.77                   4.14                4.41   \n",
              "3367                        5.00                   5.00                4.44   \n",
              "3368                         NaN                    NaN                 NaN   \n",
              "3369                        5.00                   5.00                5.00   \n",
              "\n",
              "     license instant_bookable calculated_host_listings_count  \\\n",
              "0        NaN                f                             24   \n",
              "1        NaN                f                             30   \n",
              "2        NaN                f                             24   \n",
              "3        NaN                f                             24   \n",
              "4        NaN                t                             24   \n",
              "...      ...              ...                            ...   \n",
              "3365     NaN                f                              2   \n",
              "3366     NaN                f                              4   \n",
              "3367     NaN                f                              1   \n",
              "3368     NaN                f                              1   \n",
              "3369     NaN                t                              1   \n",
              "\n",
              "     calculated_host_listings_count_entire_homes  \\\n",
              "0                                             18   \n",
              "1                                             28   \n",
              "2                                             18   \n",
              "3                                             18   \n",
              "4                                             18   \n",
              "...                                          ...   \n",
              "3365                                           2   \n",
              "3366                                           1   \n",
              "3367                                           1   \n",
              "3368                                           0   \n",
              "3369                                           0   \n",
              "\n",
              "     calculated_host_listings_count_private_rooms  \\\n",
              "0                                               6   \n",
              "1                                               2   \n",
              "2                                               6   \n",
              "3                                               6   \n",
              "4                                               6   \n",
              "...                                           ...   \n",
              "3365                                            0   \n",
              "3366                                            3   \n",
              "3367                                            0   \n",
              "3368                                            1   \n",
              "3369                                            1   \n",
              "\n",
              "     calculated_host_listings_count_shared_rooms reviews_per_month  \n",
              "0                                              0              0.70  \n",
              "1                                              0               NaN  \n",
              "2                                              0               NaN  \n",
              "3                                              0              0.45  \n",
              "4                                              0              0.11  \n",
              "...                                          ...               ...  \n",
              "3365                                           0              0.11  \n",
              "3366                                           0              0.19  \n",
              "3367                                           0              0.24  \n",
              "3368                                           0               NaN  \n",
              "3369                                           0              1.00  \n",
              "\n",
              "[3370 rows x 75 columns]"
            ],
            "text/html": [
              "\n",
              "  <div id=\"df-be8cd770-d7e2-4b5b-8988-557ffe8ba622\">\n",
              "    <div class=\"colab-df-container\">\n",
              "      <div>\n",
              "<style scoped>\n",
              "    .dataframe tbody tr th:only-of-type {\n",
              "        vertical-align: middle;\n",
              "    }\n",
              "\n",
              "    .dataframe tbody tr th {\n",
              "        vertical-align: top;\n",
              "    }\n",
              "\n",
              "    .dataframe thead th {\n",
              "        text-align: right;\n",
              "    }\n",
              "</style>\n",
              "<table border=\"1\" class=\"dataframe\">\n",
              "  <thead>\n",
              "    <tr style=\"text-align: right;\">\n",
              "      <th></th>\n",
              "      <th>id</th>\n",
              "      <th>listing_url</th>\n",
              "      <th>scrape_id</th>\n",
              "      <th>last_scraped</th>\n",
              "      <th>source</th>\n",
              "      <th>name</th>\n",
              "      <th>description</th>\n",
              "      <th>neighborhood_overview</th>\n",
              "      <th>picture_url</th>\n",
              "      <th>host_id</th>\n",
              "      <th>...</th>\n",
              "      <th>review_scores_communication</th>\n",
              "      <th>review_scores_location</th>\n",
              "      <th>review_scores_value</th>\n",
              "      <th>license</th>\n",
              "      <th>instant_bookable</th>\n",
              "      <th>calculated_host_listings_count</th>\n",
              "      <th>calculated_host_listings_count_entire_homes</th>\n",
              "      <th>calculated_host_listings_count_private_rooms</th>\n",
              "      <th>calculated_host_listings_count_shared_rooms</th>\n",
              "      <th>reviews_per_month</th>\n",
              "    </tr>\n",
              "  </thead>\n",
              "  <tbody>\n",
              "    <tr>\n",
              "      <th>0</th>\n",
              "      <td>53060989</td>\n",
              "      <td>https://www.airbnb.com/rooms/53060989</td>\n",
              "      <td>20220922191353</td>\n",
              "      <td>2022-09-22</td>\n",
              "      <td>previous scrape</td>\n",
              "      <td>Bnb2you Apartment with view near Geneva</td>\n",
              "      <td>Renovated luxury apartment overlooking the Jur...</td>\n",
              "      <td>NaN</td>\n",
              "      <td>https://a0.muscache.com/pictures/prohost-api/H...</td>\n",
              "      <td>313578602</td>\n",
              "      <td>...</td>\n",
              "      <td>4.14</td>\n",
              "      <td>4.71</td>\n",
              "      <td>4.29</td>\n",
              "      <td>NaN</td>\n",
              "      <td>f</td>\n",
              "      <td>24</td>\n",
              "      <td>18</td>\n",
              "      <td>6</td>\n",
              "      <td>0</td>\n",
              "      <td>0.70</td>\n",
              "    </tr>\n",
              "    <tr>\n",
              "      <th>1</th>\n",
              "      <td>588150356748050196</td>\n",
              "      <td>https://www.airbnb.com/rooms/588150356748050196</td>\n",
              "      <td>20220922191353</td>\n",
              "      <td>2022-09-22</td>\n",
              "      <td>previous scrape</td>\n",
              "      <td>Superbe, 50m de la frontière, résidence, parking</td>\n",
              "      <td>Très bel appartement avec terrasse de 25m2 et ...</td>\n",
              "      <td>NaN</td>\n",
              "      <td>https://a0.muscache.com/pictures/miso/Hosting-...</td>\n",
              "      <td>46143912</td>\n",
              "      <td>...</td>\n",
              "      <td>NaN</td>\n",
              "      <td>NaN</td>\n",
              "      <td>NaN</td>\n",
              "      <td>NaN</td>\n",
              "      <td>f</td>\n",
              "      <td>30</td>\n",
              "      <td>28</td>\n",
              "      <td>2</td>\n",
              "      <td>0</td>\n",
              "      <td>NaN</td>\n",
              "    </tr>\n",
              "    <tr>\n",
              "      <th>2</th>\n",
              "      <td>593087126941169126</td>\n",
              "      <td>https://www.airbnb.com/rooms/593087126941169126</td>\n",
              "      <td>20220922191353</td>\n",
              "      <td>2022-09-22</td>\n",
              "      <td>previous scrape</td>\n",
              "      <td>Bnb2 You Private room n2 in roommate appartment</td>\n",
              "      <td>Private room in a 3-bedroom shared apartment. ...</td>\n",
              "      <td>NaN</td>\n",
              "      <td>https://a0.muscache.com/pictures/prohost-api/H...</td>\n",
              "      <td>313578602</td>\n",
              "      <td>...</td>\n",
              "      <td>NaN</td>\n",
              "      <td>NaN</td>\n",
              "      <td>NaN</td>\n",
              "      <td>NaN</td>\n",
              "      <td>f</td>\n",
              "      <td>24</td>\n",
              "      <td>18</td>\n",
              "      <td>6</td>\n",
              "      <td>0</td>\n",
              "      <td>NaN</td>\n",
              "    </tr>\n",
              "    <tr>\n",
              "      <th>3</th>\n",
              "      <td>592692800643063760</td>\n",
              "      <td>https://www.airbnb.com/rooms/592692800643063760</td>\n",
              "      <td>20220922191353</td>\n",
              "      <td>2022-09-22</td>\n",
              "      <td>previous scrape</td>\n",
              "      <td>Bnb2you Private Room n1 In Coloc Design near</td>\n",
              "      <td>Private room in a 3-bedroom shared apartment. ...</td>\n",
              "      <td>NaN</td>\n",
              "      <td>https://a0.muscache.com/pictures/prohost-api/H...</td>\n",
              "      <td>313578602</td>\n",
              "      <td>...</td>\n",
              "      <td>1.00</td>\n",
              "      <td>3.00</td>\n",
              "      <td>1.00</td>\n",
              "      <td>NaN</td>\n",
              "      <td>f</td>\n",
              "      <td>24</td>\n",
              "      <td>18</td>\n",
              "      <td>6</td>\n",
              "      <td>0</td>\n",
              "      <td>0.45</td>\n",
              "    </tr>\n",
              "    <tr>\n",
              "      <th>4</th>\n",
              "      <td>53636749</td>\n",
              "      <td>https://www.airbnb.com/rooms/53636749</td>\n",
              "      <td>20220922191353</td>\n",
              "      <td>2022-09-22</td>\n",
              "      <td>previous scrape</td>\n",
              "      <td>MajorBnB Well Located Deco Apartment near Geneva</td>\n",
              "      <td>Deco apartment well located in the city center...</td>\n",
              "      <td>NaN</td>\n",
              "      <td>https://a0.muscache.com/pictures/prohost-api/H...</td>\n",
              "      <td>313578602</td>\n",
              "      <td>...</td>\n",
              "      <td>5.00</td>\n",
              "      <td>5.00</td>\n",
              "      <td>4.00</td>\n",
              "      <td>NaN</td>\n",
              "      <td>t</td>\n",
              "      <td>24</td>\n",
              "      <td>18</td>\n",
              "      <td>6</td>\n",
              "      <td>0</td>\n",
              "      <td>0.11</td>\n",
              "    </tr>\n",
              "    <tr>\n",
              "      <th>...</th>\n",
              "      <td>...</td>\n",
              "      <td>...</td>\n",
              "      <td>...</td>\n",
              "      <td>...</td>\n",
              "      <td>...</td>\n",
              "      <td>...</td>\n",
              "      <td>...</td>\n",
              "      <td>...</td>\n",
              "      <td>...</td>\n",
              "      <td>...</td>\n",
              "      <td>...</td>\n",
              "      <td>...</td>\n",
              "      <td>...</td>\n",
              "      <td>...</td>\n",
              "      <td>...</td>\n",
              "      <td>...</td>\n",
              "      <td>...</td>\n",
              "      <td>...</td>\n",
              "      <td>...</td>\n",
              "      <td>...</td>\n",
              "      <td>...</td>\n",
              "    </tr>\n",
              "    <tr>\n",
              "      <th>3365</th>\n",
              "      <td>22745250</td>\n",
              "      <td>https://www.airbnb.com/rooms/22745250</td>\n",
              "      <td>20220922191353</td>\n",
              "      <td>2022-09-23</td>\n",
              "      <td>city scrape</td>\n",
              "      <td>Convenient spacious cosy appartement with balcony</td>\n",
              "      <td>Appartement lumineux, spacieux et confortable ...</td>\n",
              "      <td>NaN</td>\n",
              "      <td>https://a0.muscache.com/pictures/8f9b04de-32db...</td>\n",
              "      <td>13027886</td>\n",
              "      <td>...</td>\n",
              "      <td>5.00</td>\n",
              "      <td>4.33</td>\n",
              "      <td>4.33</td>\n",
              "      <td>NaN</td>\n",
              "      <td>f</td>\n",
              "      <td>2</td>\n",
              "      <td>2</td>\n",
              "      <td>0</td>\n",
              "      <td>0</td>\n",
              "      <td>0.11</td>\n",
              "    </tr>\n",
              "    <tr>\n",
              "      <th>3366</th>\n",
              "      <td>709866</td>\n",
              "      <td>https://www.airbnb.com/rooms/709866</td>\n",
              "      <td>20220922191353</td>\n",
              "      <td>2022-09-22</td>\n",
              "      <td>city scrape</td>\n",
              "      <td>Big, bright and cosy room in  villa</td>\n",
              "      <td>&lt;b&gt;The space&lt;/b&gt;&lt;br /&gt;Big, bright and cosy roo...</td>\n",
              "      <td>NaN</td>\n",
              "      <td>https://a0.muscache.com/pictures/9578383/93575...</td>\n",
              "      <td>2857694</td>\n",
              "      <td>...</td>\n",
              "      <td>4.77</td>\n",
              "      <td>4.14</td>\n",
              "      <td>4.41</td>\n",
              "      <td>NaN</td>\n",
              "      <td>f</td>\n",
              "      <td>4</td>\n",
              "      <td>1</td>\n",
              "      <td>3</td>\n",
              "      <td>0</td>\n",
              "      <td>0.19</td>\n",
              "    </tr>\n",
              "    <tr>\n",
              "      <th>3367</th>\n",
              "      <td>26886855</td>\n",
              "      <td>https://www.airbnb.com/rooms/26886855</td>\n",
              "      <td>20220922191353</td>\n",
              "      <td>2022-09-23</td>\n",
              "      <td>city scrape</td>\n",
              "      <td>CHARMANT T2 AUX PORTES DE GENÈVE</td>\n",
              "      <td>Situé au centre ville d'Annemasse, à 2mn à pie...</td>\n",
              "      <td>NaN</td>\n",
              "      <td>https://a0.muscache.com/pictures/a91b63bd-3404...</td>\n",
              "      <td>202134455</td>\n",
              "      <td>...</td>\n",
              "      <td>5.00</td>\n",
              "      <td>5.00</td>\n",
              "      <td>4.44</td>\n",
              "      <td>NaN</td>\n",
              "      <td>f</td>\n",
              "      <td>1</td>\n",
              "      <td>1</td>\n",
              "      <td>0</td>\n",
              "      <td>0</td>\n",
              "      <td>0.24</td>\n",
              "    </tr>\n",
              "    <tr>\n",
              "      <th>3368</th>\n",
              "      <td>44934065</td>\n",
              "      <td>https://www.airbnb.com/rooms/44934065</td>\n",
              "      <td>20220922191353</td>\n",
              "      <td>2022-09-22</td>\n",
              "      <td>city scrape</td>\n",
              "      <td>3 room appart</td>\n",
              "      <td>About the flat :&lt;br /&gt;The flat is a 3-room  ap...</td>\n",
              "      <td>NaN</td>\n",
              "      <td>https://a0.muscache.com/pictures/68a72929-edc0...</td>\n",
              "      <td>236949169</td>\n",
              "      <td>...</td>\n",
              "      <td>NaN</td>\n",
              "      <td>NaN</td>\n",
              "      <td>NaN</td>\n",
              "      <td>NaN</td>\n",
              "      <td>f</td>\n",
              "      <td>1</td>\n",
              "      <td>0</td>\n",
              "      <td>1</td>\n",
              "      <td>0</td>\n",
              "      <td>NaN</td>\n",
              "    </tr>\n",
              "    <tr>\n",
              "      <th>3369</th>\n",
              "      <td>701221448037756093</td>\n",
              "      <td>https://www.airbnb.com/rooms/701221448037756093</td>\n",
              "      <td>20220922191353</td>\n",
              "      <td>2022-09-22</td>\n",
              "      <td>city scrape</td>\n",
              "      <td>Comfortable 2 room place in nice house</td>\n",
              "      <td>Close to Geneva, the house is located in a nic...</td>\n",
              "      <td>NaN</td>\n",
              "      <td>https://a0.muscache.com/pictures/miso/Hosting-...</td>\n",
              "      <td>31775625</td>\n",
              "      <td>...</td>\n",
              "      <td>5.00</td>\n",
              "      <td>5.00</td>\n",
              "      <td>5.00</td>\n",
              "      <td>NaN</td>\n",
              "      <td>t</td>\n",
              "      <td>1</td>\n",
              "      <td>0</td>\n",
              "      <td>1</td>\n",
              "      <td>0</td>\n",
              "      <td>1.00</td>\n",
              "    </tr>\n",
              "  </tbody>\n",
              "</table>\n",
              "<p>3370 rows × 75 columns</p>\n",
              "</div>\n",
              "      <button class=\"colab-df-convert\" onclick=\"convertToInteractive('df-be8cd770-d7e2-4b5b-8988-557ffe8ba622')\"\n",
              "              title=\"Convert this dataframe to an interactive table.\"\n",
              "              style=\"display:none;\">\n",
              "        \n",
              "  <svg xmlns=\"http://www.w3.org/2000/svg\" height=\"24px\"viewBox=\"0 0 24 24\"\n",
              "       width=\"24px\">\n",
              "    <path d=\"M0 0h24v24H0V0z\" fill=\"none\"/>\n",
              "    <path d=\"M18.56 5.44l.94 2.06.94-2.06 2.06-.94-2.06-.94-.94-2.06-.94 2.06-2.06.94zm-11 1L8.5 8.5l.94-2.06 2.06-.94-2.06-.94L8.5 2.5l-.94 2.06-2.06.94zm10 10l.94 2.06.94-2.06 2.06-.94-2.06-.94-.94-2.06-.94 2.06-2.06.94z\"/><path d=\"M17.41 7.96l-1.37-1.37c-.4-.4-.92-.59-1.43-.59-.52 0-1.04.2-1.43.59L10.3 9.45l-7.72 7.72c-.78.78-.78 2.05 0 2.83L4 21.41c.39.39.9.59 1.41.59.51 0 1.02-.2 1.41-.59l7.78-7.78 2.81-2.81c.8-.78.8-2.07 0-2.86zM5.41 20L4 18.59l7.72-7.72 1.47 1.35L5.41 20z\"/>\n",
              "  </svg>\n",
              "      </button>\n",
              "      \n",
              "  <style>\n",
              "    .colab-df-container {\n",
              "      display:flex;\n",
              "      flex-wrap:wrap;\n",
              "      gap: 12px;\n",
              "    }\n",
              "\n",
              "    .colab-df-convert {\n",
              "      background-color: #E8F0FE;\n",
              "      border: none;\n",
              "      border-radius: 50%;\n",
              "      cursor: pointer;\n",
              "      display: none;\n",
              "      fill: #1967D2;\n",
              "      height: 32px;\n",
              "      padding: 0 0 0 0;\n",
              "      width: 32px;\n",
              "    }\n",
              "\n",
              "    .colab-df-convert:hover {\n",
              "      background-color: #E2EBFA;\n",
              "      box-shadow: 0px 1px 2px rgba(60, 64, 67, 0.3), 0px 1px 3px 1px rgba(60, 64, 67, 0.15);\n",
              "      fill: #174EA6;\n",
              "    }\n",
              "\n",
              "    [theme=dark] .colab-df-convert {\n",
              "      background-color: #3B4455;\n",
              "      fill: #D2E3FC;\n",
              "    }\n",
              "\n",
              "    [theme=dark] .colab-df-convert:hover {\n",
              "      background-color: #434B5C;\n",
              "      box-shadow: 0px 1px 3px 1px rgba(0, 0, 0, 0.15);\n",
              "      filter: drop-shadow(0px 1px 2px rgba(0, 0, 0, 0.3));\n",
              "      fill: #FFFFFF;\n",
              "    }\n",
              "  </style>\n",
              "\n",
              "      <script>\n",
              "        const buttonEl =\n",
              "          document.querySelector('#df-be8cd770-d7e2-4b5b-8988-557ffe8ba622 button.colab-df-convert');\n",
              "        buttonEl.style.display =\n",
              "          google.colab.kernel.accessAllowed ? 'block' : 'none';\n",
              "\n",
              "        async function convertToInteractive(key) {\n",
              "          const element = document.querySelector('#df-be8cd770-d7e2-4b5b-8988-557ffe8ba622');\n",
              "          const dataTable =\n",
              "            await google.colab.kernel.invokeFunction('convertToInteractive',\n",
              "                                                     [key], {});\n",
              "          if (!dataTable) return;\n",
              "\n",
              "          const docLinkHtml = 'Like what you see? Visit the ' +\n",
              "            '<a target=\"_blank\" href=https://colab.research.google.com/notebooks/data_table.ipynb>data table notebook</a>'\n",
              "            + ' to learn more about interactive tables.';\n",
              "          element.innerHTML = '';\n",
              "          dataTable['output_type'] = 'display_data';\n",
              "          await google.colab.output.renderOutput(dataTable, element);\n",
              "          const docLink = document.createElement('div');\n",
              "          docLink.innerHTML = docLinkHtml;\n",
              "          element.appendChild(docLink);\n",
              "        }\n",
              "      </script>\n",
              "    </div>\n",
              "  </div>\n",
              "  "
            ]
          },
          "metadata": {},
          "execution_count": 189
        }
      ]
    },
    {
      "cell_type": "code",
      "source": [
        "df=df.drop(['host_location','id','listing_url', 'scrape_id', 'last_scraped', 'source', 'name',\n",
        "       'description', 'neighborhood_overview', 'picture_url', 'host_id',\n",
        "       'host_url', 'host_name', 'host_since', 'host_about',\n",
        "       'host_response_time', 'host_response_rate',\n",
        "       'host_is_superhost', 'host_thumbnail_url', 'host_picture_url',\n",
        "       'host_neighbourhood', 'host_listings_count',\n",
        "       'host_total_listings_count', 'host_verifications',\n",
        "       'host_has_profile_pic', 'host_identity_verified', 'neighbourhood',\n",
        "       'neighbourhood_cleansed', 'neighbourhood_group_cleansed', 'latitude',\n",
        "       'longitude','accommodates', 'bathrooms',\n",
        "       'bathrooms_text', 'bedrooms', 'beds', 'amenities',\n",
        "       'minimum_nights', 'maximum_nights', 'minimum_minimum_nights',\n",
        "       'maximum_minimum_nights', 'minimum_maximum_nights',\n",
        "       'maximum_maximum_nights', 'minimum_nights_avg_ntm',\n",
        "       'maximum_nights_avg_ntm', 'calendar_updated', 'has_availability',\n",
        "       'availability_30', 'availability_60', 'availability_90','calendar_last_scraped',\n",
        "       'number_of_reviews_ltm', 'number_of_reviews_l30d', 'first_review',\n",
        "       'last_review','review_scores_accuracy','review_scores_checkin', 'review_scores_location',\n",
        "       'review_scores_value', 'license', 'instant_bookable',\n",
        "       'calculated_host_listings_count',\n",
        "       'calculated_host_listings_count_entire_homes',\n",
        "       'calculated_host_listings_count_private_rooms',\n",
        "       'calculated_host_listings_count_shared_rooms', 'reviews_per_month'], axis=1)"
      ],
      "metadata": {
        "id": "WJO3Bp3Xd7VZ"
      },
      "execution_count": 190,
      "outputs": []
    },
    {
      "cell_type": "markdown",
      "source": [
        "**host_acceptance_rate**"
      ],
      "metadata": {
        "id": "Sb5i6RoneCAj"
      }
    },
    {
      "cell_type": "code",
      "source": [
        "df[\"host_acceptance_rate\"] = df[\"host_acceptance_rate\"].str.replace(\"%\",\"\")"
      ],
      "metadata": {
        "id": "gK8FArw7d-g9"
      },
      "execution_count": 191,
      "outputs": []
    },
    {
      "cell_type": "code",
      "source": [
        "df['host_acceptance_rate']=df['host_acceptance_rate'].astype(float)"
      ],
      "metadata": {
        "id": "powvwaeaeEIx"
      },
      "execution_count": 192,
      "outputs": []
    },
    {
      "cell_type": "code",
      "source": [
        "df.info()"
      ],
      "metadata": {
        "colab": {
          "base_uri": "https://localhost:8080/"
        },
        "id": "KsGkDNxmeGZO",
        "outputId": "090ada5f-3a1e-42c7-9435-0c2f4204cc73"
      },
      "execution_count": 193,
      "outputs": [
        {
          "output_type": "stream",
          "name": "stdout",
          "text": [
            "<class 'pandas.core.frame.DataFrame'>\n",
            "RangeIndex: 3370 entries, 0 to 3369\n",
            "Data columns (total 9 columns):\n",
            " #   Column                       Non-Null Count  Dtype  \n",
            "---  ------                       --------------  -----  \n",
            " 0   host_acceptance_rate         3054 non-null   float64\n",
            " 1   property_type                3370 non-null   object \n",
            " 2   room_type                    3370 non-null   object \n",
            " 3   price                        3370 non-null   object \n",
            " 4   availability_365             3370 non-null   int64  \n",
            " 5   number_of_reviews            3370 non-null   int64  \n",
            " 6   review_scores_rating         2788 non-null   float64\n",
            " 7   review_scores_cleanliness    2774 non-null   float64\n",
            " 8   review_scores_communication  2774 non-null   float64\n",
            "dtypes: float64(4), int64(2), object(3)\n",
            "memory usage: 237.1+ KB\n"
          ]
        }
      ]
    },
    {
      "cell_type": "code",
      "source": [
        "df2=df.copy()\n",
        "df2=df2.fillna(round(df.mean(),1))"
      ],
      "metadata": {
        "colab": {
          "base_uri": "https://localhost:8080/"
        },
        "id": "8HOf3xMLeJck",
        "outputId": "41e552b9-e420-4bc0-aeb0-8265b09da9a2"
      },
      "execution_count": 194,
      "outputs": [
        {
          "output_type": "stream",
          "name": "stderr",
          "text": [
            "/usr/local/lib/python3.7/dist-packages/ipykernel_launcher.py:2: FutureWarning: Dropping of nuisance columns in DataFrame reductions (with 'numeric_only=None') is deprecated; in a future version this will raise TypeError.  Select only valid columns before calling the reduction.\n",
            "  \n"
          ]
        }
      ]
    },
    {
      "cell_type": "markdown",
      "source": [
        "**price**"
      ],
      "metadata": {
        "id": "weff_IB5eP0Q"
      }
    },
    {
      "cell_type": "code",
      "source": [
        "df2[\"price\"] = df2[\"price\"].str.replace(\"$\",\"\")\n",
        "df2[\"price\"] = df2[\"price\"].str.replace(\",\",\"\")\n",
        "df2[\"price\"] = df2[\"price\"].str.replace(\".\",\"\")"
      ],
      "metadata": {
        "colab": {
          "base_uri": "https://localhost:8080/"
        },
        "id": "DCuZDQMueRaF",
        "outputId": "aba46468-75dc-43a9-8eae-0ebc579c5d9e"
      },
      "execution_count": 195,
      "outputs": [
        {
          "output_type": "stream",
          "name": "stderr",
          "text": [
            "/usr/local/lib/python3.7/dist-packages/ipykernel_launcher.py:1: FutureWarning: The default value of regex will change from True to False in a future version. In addition, single character regular expressions will *not* be treated as literal strings when regex=True.\n",
            "  \"\"\"Entry point for launching an IPython kernel.\n",
            "/usr/local/lib/python3.7/dist-packages/ipykernel_launcher.py:3: FutureWarning: The default value of regex will change from True to False in a future version. In addition, single character regular expressions will *not* be treated as literal strings when regex=True.\n",
            "  This is separate from the ipykernel package so we can avoid doing imports until\n"
          ]
        }
      ]
    },
    {
      "cell_type": "code",
      "source": [
        "df2['price']=df2['price'].astype(int)"
      ],
      "metadata": {
        "id": "f0Eb28eLeT5H"
      },
      "execution_count": 196,
      "outputs": []
    },
    {
      "cell_type": "code",
      "source": [
        "df2"
      ],
      "metadata": {
        "colab": {
          "base_uri": "https://localhost:8080/",
          "height": 661
        },
        "id": "x5ezAW3-eLIw",
        "outputId": "a0323356-0136-4f69-f7a9-11b01d8e8b53"
      },
      "execution_count": 197,
      "outputs": [
        {
          "output_type": "execute_result",
          "data": {
            "text/plain": [
              "      host_acceptance_rate                property_type        room_type  \\\n",
              "0                     77.0                 Entire condo  Entire home/apt   \n",
              "1                     77.0                 Entire condo  Entire home/apt   \n",
              "2                     77.0  Private room in rental unit     Private room   \n",
              "3                     77.0  Private room in rental unit     Private room   \n",
              "4                     77.0           Entire rental unit  Entire home/apt   \n",
              "...                    ...                          ...              ...   \n",
              "3365                  60.0           Entire rental unit  Entire home/apt   \n",
              "3366                  50.0         Private room in home     Private room   \n",
              "3367                  79.0           Entire rental unit  Entire home/apt   \n",
              "3368                   0.0  Private room in rental unit     Private room   \n",
              "3369                 100.0  Private room in guest suite     Private room   \n",
              "\n",
              "      price  availability_365  number_of_reviews  review_scores_rating  \\\n",
              "0      6900                 0                  7                  4.14   \n",
              "1     10000                 0                  0                  4.70   \n",
              "2      3100                 0                  0                  4.70   \n",
              "3      3100                 9                  1                  3.00   \n",
              "4      6900                 0                  1                  5.00   \n",
              "...     ...               ...                ...                   ...   \n",
              "3365   6200                89                  6                  4.50   \n",
              "3366   8000               365                 23                  4.57   \n",
              "3367   4800               327                  9                  4.44   \n",
              "3368   3900               364                  0                  4.70   \n",
              "3369   7000                70                  1                  5.00   \n",
              "\n",
              "      review_scores_cleanliness  review_scores_communication  \n",
              "0                          4.14                         4.14  \n",
              "1                          4.70                         4.80  \n",
              "2                          4.70                         4.80  \n",
              "3                          2.00                         1.00  \n",
              "4                          5.00                         5.00  \n",
              "...                         ...                          ...  \n",
              "3365                       4.00                         5.00  \n",
              "3366                       4.27                         4.77  \n",
              "3367                       4.33                         5.00  \n",
              "3368                       4.70                         4.80  \n",
              "3369                       5.00                         5.00  \n",
              "\n",
              "[3370 rows x 9 columns]"
            ],
            "text/html": [
              "\n",
              "  <div id=\"df-8e6e77fb-0191-406c-8b05-b2e7346c192a\">\n",
              "    <div class=\"colab-df-container\">\n",
              "      <div>\n",
              "<style scoped>\n",
              "    .dataframe tbody tr th:only-of-type {\n",
              "        vertical-align: middle;\n",
              "    }\n",
              "\n",
              "    .dataframe tbody tr th {\n",
              "        vertical-align: top;\n",
              "    }\n",
              "\n",
              "    .dataframe thead th {\n",
              "        text-align: right;\n",
              "    }\n",
              "</style>\n",
              "<table border=\"1\" class=\"dataframe\">\n",
              "  <thead>\n",
              "    <tr style=\"text-align: right;\">\n",
              "      <th></th>\n",
              "      <th>host_acceptance_rate</th>\n",
              "      <th>property_type</th>\n",
              "      <th>room_type</th>\n",
              "      <th>price</th>\n",
              "      <th>availability_365</th>\n",
              "      <th>number_of_reviews</th>\n",
              "      <th>review_scores_rating</th>\n",
              "      <th>review_scores_cleanliness</th>\n",
              "      <th>review_scores_communication</th>\n",
              "    </tr>\n",
              "  </thead>\n",
              "  <tbody>\n",
              "    <tr>\n",
              "      <th>0</th>\n",
              "      <td>77.0</td>\n",
              "      <td>Entire condo</td>\n",
              "      <td>Entire home/apt</td>\n",
              "      <td>6900</td>\n",
              "      <td>0</td>\n",
              "      <td>7</td>\n",
              "      <td>4.14</td>\n",
              "      <td>4.14</td>\n",
              "      <td>4.14</td>\n",
              "    </tr>\n",
              "    <tr>\n",
              "      <th>1</th>\n",
              "      <td>77.0</td>\n",
              "      <td>Entire condo</td>\n",
              "      <td>Entire home/apt</td>\n",
              "      <td>10000</td>\n",
              "      <td>0</td>\n",
              "      <td>0</td>\n",
              "      <td>4.70</td>\n",
              "      <td>4.70</td>\n",
              "      <td>4.80</td>\n",
              "    </tr>\n",
              "    <tr>\n",
              "      <th>2</th>\n",
              "      <td>77.0</td>\n",
              "      <td>Private room in rental unit</td>\n",
              "      <td>Private room</td>\n",
              "      <td>3100</td>\n",
              "      <td>0</td>\n",
              "      <td>0</td>\n",
              "      <td>4.70</td>\n",
              "      <td>4.70</td>\n",
              "      <td>4.80</td>\n",
              "    </tr>\n",
              "    <tr>\n",
              "      <th>3</th>\n",
              "      <td>77.0</td>\n",
              "      <td>Private room in rental unit</td>\n",
              "      <td>Private room</td>\n",
              "      <td>3100</td>\n",
              "      <td>9</td>\n",
              "      <td>1</td>\n",
              "      <td>3.00</td>\n",
              "      <td>2.00</td>\n",
              "      <td>1.00</td>\n",
              "    </tr>\n",
              "    <tr>\n",
              "      <th>4</th>\n",
              "      <td>77.0</td>\n",
              "      <td>Entire rental unit</td>\n",
              "      <td>Entire home/apt</td>\n",
              "      <td>6900</td>\n",
              "      <td>0</td>\n",
              "      <td>1</td>\n",
              "      <td>5.00</td>\n",
              "      <td>5.00</td>\n",
              "      <td>5.00</td>\n",
              "    </tr>\n",
              "    <tr>\n",
              "      <th>...</th>\n",
              "      <td>...</td>\n",
              "      <td>...</td>\n",
              "      <td>...</td>\n",
              "      <td>...</td>\n",
              "      <td>...</td>\n",
              "      <td>...</td>\n",
              "      <td>...</td>\n",
              "      <td>...</td>\n",
              "      <td>...</td>\n",
              "    </tr>\n",
              "    <tr>\n",
              "      <th>3365</th>\n",
              "      <td>60.0</td>\n",
              "      <td>Entire rental unit</td>\n",
              "      <td>Entire home/apt</td>\n",
              "      <td>6200</td>\n",
              "      <td>89</td>\n",
              "      <td>6</td>\n",
              "      <td>4.50</td>\n",
              "      <td>4.00</td>\n",
              "      <td>5.00</td>\n",
              "    </tr>\n",
              "    <tr>\n",
              "      <th>3366</th>\n",
              "      <td>50.0</td>\n",
              "      <td>Private room in home</td>\n",
              "      <td>Private room</td>\n",
              "      <td>8000</td>\n",
              "      <td>365</td>\n",
              "      <td>23</td>\n",
              "      <td>4.57</td>\n",
              "      <td>4.27</td>\n",
              "      <td>4.77</td>\n",
              "    </tr>\n",
              "    <tr>\n",
              "      <th>3367</th>\n",
              "      <td>79.0</td>\n",
              "      <td>Entire rental unit</td>\n",
              "      <td>Entire home/apt</td>\n",
              "      <td>4800</td>\n",
              "      <td>327</td>\n",
              "      <td>9</td>\n",
              "      <td>4.44</td>\n",
              "      <td>4.33</td>\n",
              "      <td>5.00</td>\n",
              "    </tr>\n",
              "    <tr>\n",
              "      <th>3368</th>\n",
              "      <td>0.0</td>\n",
              "      <td>Private room in rental unit</td>\n",
              "      <td>Private room</td>\n",
              "      <td>3900</td>\n",
              "      <td>364</td>\n",
              "      <td>0</td>\n",
              "      <td>4.70</td>\n",
              "      <td>4.70</td>\n",
              "      <td>4.80</td>\n",
              "    </tr>\n",
              "    <tr>\n",
              "      <th>3369</th>\n",
              "      <td>100.0</td>\n",
              "      <td>Private room in guest suite</td>\n",
              "      <td>Private room</td>\n",
              "      <td>7000</td>\n",
              "      <td>70</td>\n",
              "      <td>1</td>\n",
              "      <td>5.00</td>\n",
              "      <td>5.00</td>\n",
              "      <td>5.00</td>\n",
              "    </tr>\n",
              "  </tbody>\n",
              "</table>\n",
              "<p>3370 rows × 9 columns</p>\n",
              "</div>\n",
              "      <button class=\"colab-df-convert\" onclick=\"convertToInteractive('df-8e6e77fb-0191-406c-8b05-b2e7346c192a')\"\n",
              "              title=\"Convert this dataframe to an interactive table.\"\n",
              "              style=\"display:none;\">\n",
              "        \n",
              "  <svg xmlns=\"http://www.w3.org/2000/svg\" height=\"24px\"viewBox=\"0 0 24 24\"\n",
              "       width=\"24px\">\n",
              "    <path d=\"M0 0h24v24H0V0z\" fill=\"none\"/>\n",
              "    <path d=\"M18.56 5.44l.94 2.06.94-2.06 2.06-.94-2.06-.94-.94-2.06-.94 2.06-2.06.94zm-11 1L8.5 8.5l.94-2.06 2.06-.94-2.06-.94L8.5 2.5l-.94 2.06-2.06.94zm10 10l.94 2.06.94-2.06 2.06-.94-2.06-.94-.94-2.06-.94 2.06-2.06.94z\"/><path d=\"M17.41 7.96l-1.37-1.37c-.4-.4-.92-.59-1.43-.59-.52 0-1.04.2-1.43.59L10.3 9.45l-7.72 7.72c-.78.78-.78 2.05 0 2.83L4 21.41c.39.39.9.59 1.41.59.51 0 1.02-.2 1.41-.59l7.78-7.78 2.81-2.81c.8-.78.8-2.07 0-2.86zM5.41 20L4 18.59l7.72-7.72 1.47 1.35L5.41 20z\"/>\n",
              "  </svg>\n",
              "      </button>\n",
              "      \n",
              "  <style>\n",
              "    .colab-df-container {\n",
              "      display:flex;\n",
              "      flex-wrap:wrap;\n",
              "      gap: 12px;\n",
              "    }\n",
              "\n",
              "    .colab-df-convert {\n",
              "      background-color: #E8F0FE;\n",
              "      border: none;\n",
              "      border-radius: 50%;\n",
              "      cursor: pointer;\n",
              "      display: none;\n",
              "      fill: #1967D2;\n",
              "      height: 32px;\n",
              "      padding: 0 0 0 0;\n",
              "      width: 32px;\n",
              "    }\n",
              "\n",
              "    .colab-df-convert:hover {\n",
              "      background-color: #E2EBFA;\n",
              "      box-shadow: 0px 1px 2px rgba(60, 64, 67, 0.3), 0px 1px 3px 1px rgba(60, 64, 67, 0.15);\n",
              "      fill: #174EA6;\n",
              "    }\n",
              "\n",
              "    [theme=dark] .colab-df-convert {\n",
              "      background-color: #3B4455;\n",
              "      fill: #D2E3FC;\n",
              "    }\n",
              "\n",
              "    [theme=dark] .colab-df-convert:hover {\n",
              "      background-color: #434B5C;\n",
              "      box-shadow: 0px 1px 3px 1px rgba(0, 0, 0, 0.15);\n",
              "      filter: drop-shadow(0px 1px 2px rgba(0, 0, 0, 0.3));\n",
              "      fill: #FFFFFF;\n",
              "    }\n",
              "  </style>\n",
              "\n",
              "      <script>\n",
              "        const buttonEl =\n",
              "          document.querySelector('#df-8e6e77fb-0191-406c-8b05-b2e7346c192a button.colab-df-convert');\n",
              "        buttonEl.style.display =\n",
              "          google.colab.kernel.accessAllowed ? 'block' : 'none';\n",
              "\n",
              "        async function convertToInteractive(key) {\n",
              "          const element = document.querySelector('#df-8e6e77fb-0191-406c-8b05-b2e7346c192a');\n",
              "          const dataTable =\n",
              "            await google.colab.kernel.invokeFunction('convertToInteractive',\n",
              "                                                     [key], {});\n",
              "          if (!dataTable) return;\n",
              "\n",
              "          const docLinkHtml = 'Like what you see? Visit the ' +\n",
              "            '<a target=\"_blank\" href=https://colab.research.google.com/notebooks/data_table.ipynb>data table notebook</a>'\n",
              "            + ' to learn more about interactive tables.';\n",
              "          element.innerHTML = '';\n",
              "          dataTable['output_type'] = 'display_data';\n",
              "          await google.colab.output.renderOutput(dataTable, element);\n",
              "          const docLink = document.createElement('div');\n",
              "          docLink.innerHTML = docLinkHtml;\n",
              "          element.appendChild(docLink);\n",
              "        }\n",
              "      </script>\n",
              "    </div>\n",
              "  </div>\n",
              "  "
            ]
          },
          "metadata": {},
          "execution_count": 197
        }
      ]
    },
    {
      "cell_type": "code",
      "source": [
        "df2.isnull().sum()"
      ],
      "metadata": {
        "colab": {
          "base_uri": "https://localhost:8080/"
        },
        "id": "7V91c2VSeVQg",
        "outputId": "19a4027b-6943-4582-b07f-c72d347e8399"
      },
      "execution_count": 198,
      "outputs": [
        {
          "output_type": "execute_result",
          "data": {
            "text/plain": [
              "host_acceptance_rate           0\n",
              "property_type                  0\n",
              "room_type                      0\n",
              "price                          0\n",
              "availability_365               0\n",
              "number_of_reviews              0\n",
              "review_scores_rating           0\n",
              "review_scores_cleanliness      0\n",
              "review_scores_communication    0\n",
              "dtype: int64"
            ]
          },
          "metadata": {},
          "execution_count": 198
        }
      ]
    },
    {
      "cell_type": "code",
      "source": [
        "df2.info()"
      ],
      "metadata": {
        "colab": {
          "base_uri": "https://localhost:8080/"
        },
        "id": "iF27Adl3eWsQ",
        "outputId": "c78570ee-a878-4445-807d-ffb41b25bd10"
      },
      "execution_count": 199,
      "outputs": [
        {
          "output_type": "stream",
          "name": "stdout",
          "text": [
            "<class 'pandas.core.frame.DataFrame'>\n",
            "RangeIndex: 3370 entries, 0 to 3369\n",
            "Data columns (total 9 columns):\n",
            " #   Column                       Non-Null Count  Dtype  \n",
            "---  ------                       --------------  -----  \n",
            " 0   host_acceptance_rate         3370 non-null   float64\n",
            " 1   property_type                3370 non-null   object \n",
            " 2   room_type                    3370 non-null   object \n",
            " 3   price                        3370 non-null   int64  \n",
            " 4   availability_365             3370 non-null   int64  \n",
            " 5   number_of_reviews            3370 non-null   int64  \n",
            " 6   review_scores_rating         3370 non-null   float64\n",
            " 7   review_scores_cleanliness    3370 non-null   float64\n",
            " 8   review_scores_communication  3370 non-null   float64\n",
            "dtypes: float64(4), int64(3), object(2)\n",
            "memory usage: 237.1+ KB\n"
          ]
        }
      ]
    },
    {
      "cell_type": "markdown",
      "source": [
        "**Tipos de alojamiento**"
      ],
      "metadata": {
        "id": "wGsMLw3deriZ"
      }
    },
    {
      "cell_type": "code",
      "source": [
        "df2['room_type'].value_counts()"
      ],
      "metadata": {
        "colab": {
          "base_uri": "https://localhost:8080/"
        },
        "id": "YVfhJv32erxF",
        "outputId": "109717bb-1ad4-435e-a9b0-396219aee420"
      },
      "execution_count": 200,
      "outputs": [
        {
          "output_type": "execute_result",
          "data": {
            "text/plain": [
              "Entire home/apt    2371\n",
              "Private room        954\n",
              "Hotel room           25\n",
              "Shared room          20\n",
              "Name: room_type, dtype: int64"
            ]
          },
          "metadata": {},
          "execution_count": 200
        }
      ]
    },
    {
      "cell_type": "markdown",
      "source": [
        "**Eliminar outliers -- datos atipicos de las variables **"
      ],
      "metadata": {
        "id": "Ud1zWMrJe2J3"
      }
    },
    {
      "cell_type": "code",
      "source": [
        "import seaborn as sns\n",
        "sns.boxplot(df2['review_scores_rating'])"
      ],
      "metadata": {
        "colab": {
          "base_uri": "https://localhost:8080/",
          "height": 353
        },
        "id": "MhMPfk3jIsAZ",
        "outputId": "078ca865-be97-4cf6-81c4-8093aa62e318"
      },
      "execution_count": 201,
      "outputs": [
        {
          "output_type": "stream",
          "name": "stderr",
          "text": [
            "/usr/local/lib/python3.7/dist-packages/seaborn/_decorators.py:43: FutureWarning: Pass the following variable as a keyword arg: x. From version 0.12, the only valid positional argument will be `data`, and passing other arguments without an explicit keyword will result in an error or misinterpretation.\n",
            "  FutureWarning\n"
          ]
        },
        {
          "output_type": "execute_result",
          "data": {
            "text/plain": [
              "<matplotlib.axes._subplots.AxesSubplot at 0x7fc7b548a850>"
            ]
          },
          "metadata": {},
          "execution_count": 201
        },
        {
          "output_type": "display_data",
          "data": {
            "text/plain": [
              "<Figure size 432x288 with 1 Axes>"
            ],
            "image/png": "[encoded data removed]"
          },
          "metadata": {
            "needs_background": "light"
          }
        }
      ]
    },
    {
      "cell_type": "code",
      "source": [
        "df2=df2[df2['review_scores_rating']>4.5 ]"
      ],
      "metadata": {
        "id": "jZfuwgXSJ5hH"
      },
      "execution_count": 202,
      "outputs": []
    },
    {
      "cell_type": "code",
      "source": [
        "sns.boxplot(df2['review_scores_rating'])"
      ],
      "metadata": {
        "colab": {
          "base_uri": "https://localhost:8080/",
          "height": 353
        },
        "id": "-ctV04QPK0LF",
        "outputId": "4d3e318c-1f20-4353-d4ee-d243f26a9a02"
      },
      "execution_count": 203,
      "outputs": [
        {
          "output_type": "stream",
          "name": "stderr",
          "text": [
            "/usr/local/lib/python3.7/dist-packages/seaborn/_decorators.py:43: FutureWarning: Pass the following variable as a keyword arg: x. From version 0.12, the only valid positional argument will be `data`, and passing other arguments without an explicit keyword will result in an error or misinterpretation.\n",
            "  FutureWarning\n"
          ]
        },
        {
          "output_type": "execute_result",
          "data": {
            "text/plain": [
              "<matplotlib.axes._subplots.AxesSubplot at 0x7fc7b5991a10>"
            ]
          },
          "metadata": {},
          "execution_count": 203
        },
        {
          "output_type": "display_data",
          "data": {
            "text/plain": [
              "<Figure size 432x288 with 1 Axes>"
            ],
            "image/png": "[encoded data removed]"
          },
          "metadata": {
            "needs_background": "light"
          }
        }
      ]
    },
    {
      "cell_type": "markdown",
      "source": [
        "______"
      ],
      "metadata": {
        "id": "j8yV1MFJK0qY"
      }
    },
    {
      "cell_type": "markdown",
      "source": [
        "**review_scores_cleanliness**\n"
      ],
      "metadata": {
        "id": "WtWa_16bK1gB"
      }
    },
    {
      "cell_type": "code",
      "source": [
        "sns.boxplot(df2['review_scores_cleanliness'])"
      ],
      "metadata": {
        "colab": {
          "base_uri": "https://localhost:8080/",
          "height": 353
        },
        "id": "woZdM56PIwFs",
        "outputId": "a461d94c-74db-4668-da86-24901d11eaee"
      },
      "execution_count": 204,
      "outputs": [
        {
          "output_type": "stream",
          "name": "stderr",
          "text": [
            "/usr/local/lib/python3.7/dist-packages/seaborn/_decorators.py:43: FutureWarning: Pass the following variable as a keyword arg: x. From version 0.12, the only valid positional argument will be `data`, and passing other arguments without an explicit keyword will result in an error or misinterpretation.\n",
            "  FutureWarning\n"
          ]
        },
        {
          "output_type": "execute_result",
          "data": {
            "text/plain": [
              "<matplotlib.axes._subplots.AxesSubplot at 0x7fc7b5423d10>"
            ]
          },
          "metadata": {},
          "execution_count": 204
        },
        {
          "output_type": "display_data",
          "data": {
            "text/plain": [
              "<Figure size 432x288 with 1 Axes>"
            ],
            "image/png": "[encoded data removed]"
          },
          "metadata": {
            "needs_background": "light"
          }
        }
      ]
    },
    {
      "cell_type": "code",
      "source": [
        "df2=df2[df2['review_scores_cleanliness']>4.5 ]"
      ],
      "metadata": {
        "id": "LQnIb5mNLEz6"
      },
      "execution_count": 205,
      "outputs": []
    },
    {
      "cell_type": "code",
      "source": [
        "sns.boxplot(df2['review_scores_cleanliness'])"
      ],
      "metadata": {
        "colab": {
          "base_uri": "https://localhost:8080/",
          "height": 353
        },
        "id": "IZHw3fK-LIR-",
        "outputId": "4c8b4346-b2e9-416c-b5cf-ed06ac6da95a"
      },
      "execution_count": 206,
      "outputs": [
        {
          "output_type": "stream",
          "name": "stderr",
          "text": [
            "/usr/local/lib/python3.7/dist-packages/seaborn/_decorators.py:43: FutureWarning: Pass the following variable as a keyword arg: x. From version 0.12, the only valid positional argument will be `data`, and passing other arguments without an explicit keyword will result in an error or misinterpretation.\n",
            "  FutureWarning\n"
          ]
        },
        {
          "output_type": "execute_result",
          "data": {
            "text/plain": [
              "<matplotlib.axes._subplots.AxesSubplot at 0x7fc7b605ba50>"
            ]
          },
          "metadata": {},
          "execution_count": 206
        },
        {
          "output_type": "display_data",
          "data": {
            "text/plain": [
              "<Figure size 432x288 with 1 Axes>"
            ],
            "image/png": "[encoded data removed]"
          },
          "metadata": {
            "needs_background": "light"
          }
        }
      ]
    },
    {
      "cell_type": "markdown",
      "source": [
        "**review_scores_communication**"
      ],
      "metadata": {
        "id": "pB-Em646LJhO"
      }
    },
    {
      "cell_type": "code",
      "source": [
        "sns.boxplot(df2['review_scores_communication'])"
      ],
      "metadata": {
        "colab": {
          "base_uri": "https://localhost:8080/",
          "height": 353
        },
        "id": "2ZcTv07oI0vr",
        "outputId": "6f711ab4-eb8d-47da-d7fb-d09b1cff0a67"
      },
      "execution_count": 207,
      "outputs": [
        {
          "output_type": "stream",
          "name": "stderr",
          "text": [
            "/usr/local/lib/python3.7/dist-packages/seaborn/_decorators.py:43: FutureWarning: Pass the following variable as a keyword arg: x. From version 0.12, the only valid positional argument will be `data`, and passing other arguments without an explicit keyword will result in an error or misinterpretation.\n",
            "  FutureWarning\n"
          ]
        },
        {
          "output_type": "execute_result",
          "data": {
            "text/plain": [
              "<matplotlib.axes._subplots.AxesSubplot at 0x7fc7b5423e50>"
            ]
          },
          "metadata": {},
          "execution_count": 207
        },
        {
          "output_type": "display_data",
          "data": {
            "text/plain": [
              "<Figure size 432x288 with 1 Axes>"
            ],
            "image/png": "[encoded data removed]"
          },
          "metadata": {
            "needs_background": "light"
          }
        }
      ]
    },
    {
      "cell_type": "code",
      "source": [
        "df2=df2[df2['review_scores_communication']>4.5 ]"
      ],
      "metadata": {
        "id": "xveDBjiLLNa2"
      },
      "execution_count": 208,
      "outputs": []
    },
    {
      "cell_type": "code",
      "source": [
        "sns.boxplot(df2['review_scores_communication'])"
      ],
      "metadata": {
        "colab": {
          "base_uri": "https://localhost:8080/",
          "height": 353
        },
        "id": "JPgirF5zLPet",
        "outputId": "bd8a829d-f865-4b1e-a204-5f4fb821d75d"
      },
      "execution_count": 209,
      "outputs": [
        {
          "output_type": "stream",
          "name": "stderr",
          "text": [
            "/usr/local/lib/python3.7/dist-packages/seaborn/_decorators.py:43: FutureWarning: Pass the following variable as a keyword arg: x. From version 0.12, the only valid positional argument will be `data`, and passing other arguments without an explicit keyword will result in an error or misinterpretation.\n",
            "  FutureWarning\n"
          ]
        },
        {
          "output_type": "execute_result",
          "data": {
            "text/plain": [
              "<matplotlib.axes._subplots.AxesSubplot at 0x7fc7b52ca8d0>"
            ]
          },
          "metadata": {},
          "execution_count": 209
        },
        {
          "output_type": "display_data",
          "data": {
            "text/plain": [
              "<Figure size 432x288 with 1 Axes>"
            ],
            "image/png": "[encoded data removed]"
          },
          "metadata": {
            "needs_background": "light"
          }
        }
      ]
    },
    {
      "cell_type": "code",
      "source": [
        "sns.boxplot(df2['number_of_reviews'])"
      ],
      "metadata": {
        "colab": {
          "base_uri": "https://localhost:8080/",
          "height": 353
        },
        "id": "9yyC2zbfI2vR",
        "outputId": "9473d01b-9144-468c-dec6-f3002cdd35a7"
      },
      "execution_count": 210,
      "outputs": [
        {
          "output_type": "stream",
          "name": "stderr",
          "text": [
            "/usr/local/lib/python3.7/dist-packages/seaborn/_decorators.py:43: FutureWarning: Pass the following variable as a keyword arg: x. From version 0.12, the only valid positional argument will be `data`, and passing other arguments without an explicit keyword will result in an error or misinterpretation.\n",
            "  FutureWarning\n"
          ]
        },
        {
          "output_type": "execute_result",
          "data": {
            "text/plain": [
              "<matplotlib.axes._subplots.AxesSubplot at 0x7fc7b523e4d0>"
            ]
          },
          "metadata": {},
          "execution_count": 210
        },
        {
          "output_type": "display_data",
          "data": {
            "text/plain": [
              "<Figure size 432x288 with 1 Axes>"
            ],
            "image/png": "[encoded data removed]"
          },
          "metadata": {
            "needs_background": "light"
          }
        }
      ]
    },
    {
      "cell_type": "code",
      "source": [
        "sns.boxplot(df2['host_acceptance_rate'])"
      ],
      "metadata": {
        "colab": {
          "base_uri": "https://localhost:8080/",
          "height": 353
        },
        "id": "k9lBsXqYVS_m",
        "outputId": "e69dc17c-3eeb-4c59-c0e8-960beb3e10fc"
      },
      "execution_count": 211,
      "outputs": [
        {
          "output_type": "stream",
          "name": "stderr",
          "text": [
            "/usr/local/lib/python3.7/dist-packages/seaborn/_decorators.py:43: FutureWarning: Pass the following variable as a keyword arg: x. From version 0.12, the only valid positional argument will be `data`, and passing other arguments without an explicit keyword will result in an error or misinterpretation.\n",
            "  FutureWarning\n"
          ]
        },
        {
          "output_type": "execute_result",
          "data": {
            "text/plain": [
              "<matplotlib.axes._subplots.AxesSubplot at 0x7fc7b5228f90>"
            ]
          },
          "metadata": {},
          "execution_count": 211
        },
        {
          "output_type": "display_data",
          "data": {
            "text/plain": [
              "<Figure size 432x288 with 1 Axes>"
            ],
            "image/png": "[encoded data removed]"
          },
          "metadata": {
            "needs_background": "light"
          }
        }
      ]
    },
    {
      "cell_type": "code",
      "source": [
        "Entire=df2[df2['room_type']=='Entire home/apt']\n",
        "Private=df2[df2['room_type']=='Private room']\n",
        "Shared=df2[df2['room_type']=='Shared room']\n",
        "Hotel=df2[df2['room_type']=='Hotel room']"
      ],
      "metadata": {
        "id": "kjkaGpy9Xaht"
      },
      "execution_count": 212,
      "outputs": []
    },
    {
      "cell_type": "code",
      "source": [
        "df2['room_type'].value_counts()"
      ],
      "metadata": {
        "colab": {
          "base_uri": "https://localhost:8080/"
        },
        "id": "IMgwae69Xibz",
        "outputId": "69cd1c34-30ea-408d-b11c-1a7cbaf4ddaf"
      },
      "execution_count": 213,
      "outputs": [
        {
          "output_type": "execute_result",
          "data": {
            "text/plain": [
              "Entire home/apt    1700\n",
              "Private room        737\n",
              "Hotel room           13\n",
              "Shared room          10\n",
              "Name: room_type, dtype: int64"
            ]
          },
          "metadata": {},
          "execution_count": 213
        }
      ]
    },
    {
      "cell_type": "markdown",
      "source": [
        "**modelos**"
      ],
      "metadata": {
        "id": "HIy4QtNOWcQt"
      }
    },
    {
      "cell_type": "code",
      "source": [
        "Vars_Indep_E= Entire[['host_acceptance_rate','review_scores_rating','review_scores_cleanliness','review_scores_communication']]\n",
        "Vars_Indep_P= Private[['host_acceptance_rate','review_scores_rating','review_scores_cleanliness','review_scores_communication']]\n",
        "Vars_Indep_S= Shared[['host_acceptance_rate','review_scores_rating','review_scores_cleanliness','review_scores_communication']]\n",
        "Vars_Indep_H= Hotel[['host_acceptance_rate','review_scores_rating','review_scores_cleanliness','review_scores_communication']]\n",
        "yE= Entire['number_of_reviews']\n",
        "yP= Private['number_of_reviews']\n",
        "yS= Shared['number_of_reviews']\n",
        "yH= Hotel['number_of_reviews']"
      ],
      "metadata": {
        "id": "eaJl7D9mYNtK"
      },
      "execution_count": 235,
      "outputs": []
    },
    {
      "cell_type": "code",
      "source": [
        "#Se define model como la función de regresión lineal\n",
        "from sklearn.linear_model import LinearRegression\n",
        "modelE= LinearRegression()\n",
        "modelP= LinearRegression()\n",
        "modelS= LinearRegression()\n",
        "modelH= LinearRegression()"
      ],
      "metadata": {
        "id": "e_a9R-hxfg7s"
      },
      "execution_count": 236,
      "outputs": []
    },
    {
      "cell_type": "code",
      "source": [
        "type(model)"
      ],
      "metadata": {
        "colab": {
          "base_uri": "https://localhost:8080/"
        },
        "id": "wuf77xoPfiqo",
        "outputId": "73bb5180-782e-4847-b9ee-e75922175a28"
      },
      "execution_count": 237,
      "outputs": [
        {
          "output_type": "execute_result",
          "data": {
            "text/plain": [
              "sklearn.linear_model._base.LinearRegression"
            ]
          },
          "metadata": {},
          "execution_count": 237
        }
      ]
    },
    {
      "cell_type": "code",
      "source": [
        "modelE.fit(X=Vars_Indep_E, y=yE)\n",
        "modelP.fit(X=Vars_Indep_P, y=yP)\n",
        "modelS.fit(X=Vars_Indep_S, y=yS)\n",
        "modelH.fit(X=Vars_Indep_H, y=yH)"
      ],
      "metadata": {
        "colab": {
          "base_uri": "https://localhost:8080/"
        },
        "id": "vKCZg5L4fkK9",
        "outputId": "9e0f824d-4d10-4b21-ea4b-6fbe987986b9"
      },
      "execution_count": 239,
      "outputs": [
        {
          "output_type": "execute_result",
          "data": {
            "text/plain": [
              "LinearRegression()"
            ]
          },
          "metadata": {},
          "execution_count": 239
        }
      ]
    },
    {
      "cell_type": "code",
      "source": [
        "modelE.__dict__\n",
        "modelP.__dict__\n",
        "modelS.__dict__\n",
        "modelH.__dict__"
      ],
      "metadata": {
        "colab": {
          "base_uri": "https://localhost:8080/"
        },
        "id": "_6iAlZYgf2x5",
        "outputId": "88b2ac4e-a2ab-4948-b61a-1c7169002495"
      },
      "execution_count": 241,
      "outputs": [
        {
          "output_type": "execute_result",
          "data": {
            "text/plain": [
              "{'fit_intercept': True,\n",
              " 'normalize': 'deprecated',\n",
              " 'copy_X': True,\n",
              " 'n_jobs': None,\n",
              " 'positive': False,\n",
              " 'feature_names_in_': array(['host_acceptance_rate', 'review_scores_rating',\n",
              "        'review_scores_cleanliness', 'review_scores_communication'],\n",
              "       dtype=object),\n",
              " 'n_features_in_': 4,\n",
              " 'coef_': array([  -0.44099731,    3.9495682 ,  203.81668996, -292.64870768]),\n",
              " '_residues': 435.8242376735211,\n",
              " 'rank_': 4,\n",
              " 'singular_': array([47.50960613,  0.72702188,  0.18488185,  0.12907465]),\n",
              " 'intercept_': 472.1901377840222}"
            ]
          },
          "metadata": {},
          "execution_count": 241
        }
      ]
    },
    {
      "cell_type": "code",
      "source": [
        "modelE.score(X=Vars_Indep_E, y=yE)\n",
        "modelP.score(X=Vars_Indep_P, y=yP)\n",
        "modelS.score(X=Vars_Indep_S, y=yS)\n",
        "modelH.score(X=Vars_Indep_H, y=yH)"
      ],
      "metadata": {
        "colab": {
          "base_uri": "https://localhost:8080/"
        },
        "id": "mnFXJBO0f5Qp",
        "outputId": "b04425bf-7b88-486b-a907-43a90ecdd553"
      },
      "execution_count": 242,
      "outputs": [
        {
          "output_type": "execute_result",
          "data": {
            "text/plain": [
              "0.8373323258755159"
            ]
          },
          "metadata": {},
          "execution_count": 242
        }
      ]
    },
    {
      "cell_type": "code",
      "source": [
        "y_pred= modelE.predict(X=Entire[['host_acceptance_rate','review_scores_rating','review_scores_cleanliness','review_scores_communication']])\n",
        "y_pred"
      ],
      "metadata": {
        "colab": {
          "base_uri": "https://localhost:8080/"
        },
        "id": "c-WM0n0Xf7Ek",
        "outputId": "55ebf47e-465a-4cd8-8dcd-be4b4697d937"
      },
      "execution_count": 243,
      "outputs": [
        {
          "output_type": "execute_result",
          "data": {
            "text/plain": [
              "array([25.263087  , 15.86532196, 21.65983541, ..., 25.64099005,\n",
              "       23.62733926, 19.80530692])"
            ]
          },
          "metadata": {},
          "execution_count": 243
        }
      ]
    },
    {
      "cell_type": "code",
      "source": [
        "y_pred1= modelE.predict(X=Private[['host_acceptance_rate','review_scores_rating','review_scores_cleanliness','review_scores_communication']])\n",
        "y_pred1"
      ],
      "metadata": {
        "colab": {
          "base_uri": "https://localhost:8080/"
        },
        "id": "94kQfq0-ebQ3",
        "outputId": "7affa25d-984f-42b5-8001-802da1ca729f"
      },
      "execution_count": 245,
      "outputs": [
        {
          "output_type": "execute_result",
          "data": {
            "text/plain": [
              "array([ 2.52630870e+01,  2.09040293e+01,  1.41779308e+01,  3.10576004e+01,\n",
              "        7.04758410e+00,  2.16598354e+01,  2.16598354e+01,  2.32265099e+01,\n",
              "        2.01482232e+01,  1.84608321e+01,  2.52630870e+01,  2.52630870e+01,\n",
              "        2.92854239e+01,  2.40185813e+01,  2.82836891e+01,  2.01959327e+01,\n",
              "        2.03398862e+01,  2.56016352e+01,  1.40952611e+01,  2.91000479e+01,\n",
              "        2.04287148e+01,  1.51677788e+01,  3.28632370e+00,  2.93260859e+01,\n",
              "        3.12095483e+01,  2.31279683e+01,  2.81395431e+01,  6.07643406e+00,\n",
              "        2.49913159e+01,  2.11391196e+01,  3.49193894e+01,  2.65322304e+01,\n",
              "        3.33207747e+01,  3.32257831e+01,  2.60470396e+01,  3.03008030e+01,\n",
              "        2.38496064e+01,  2.08259469e+01,  1.22037377e+01,  2.04313540e+01,\n",
              "        3.25662882e+01,  7.26145366e+00,  1.62432250e+01,  1.17669097e+01,\n",
              "        1.54071301e+01,  1.28340836e+01,  3.45455982e+01,  1.91235475e+01,\n",
              "        2.16598354e+01,  3.17922548e+01,  2.69533885e+01,  1.37413012e+01,\n",
              "        1.99074234e+01,  2.98701523e+01,  1.96745397e+01,  3.20393092e+01,\n",
              "        2.30745058e+01,  3.14403608e+01,  1.57918231e+01,  1.55372513e+01,\n",
              "        2.46894300e+01,  3.21540183e+01,  2.20324697e+01,  2.59089172e+01,\n",
              "        6.43581835e+00,  2.75092520e+01,  4.02503179e+00,  2.83470542e+01,\n",
              "        3.68945249e+00,  2.00051834e+01,  5.86406372e+00,  2.16598354e+01,\n",
              "        3.05442045e+01,  1.87717001e+01,  1.71818233e+01,  2.55667006e+01,\n",
              "        2.61041265e+01,  3.68317857e+01,  2.41004809e+01,  1.73396750e+01,\n",
              "        4.08147222e+00,  2.88848881e+01,  3.21168190e+01, -8.53754892e+00,\n",
              "        2.24510806e+01,  3.09208603e+01,  2.70949707e+01,  2.71934603e+01,\n",
              "       -1.17900499e+01,  2.76468286e+00,  3.16194416e+01,  1.16629501e+01,\n",
              "        2.82499991e+01,  2.75958544e+01,  7.68603420e+00,  4.27629507e+00,\n",
              "        1.30100267e+01,  2.22247252e+01,  3.29700658e+01,  3.15129840e+01,\n",
              "        2.35336670e+01,  2.14079000e+01,  3.09411222e+01,  1.49333674e+01,\n",
              "        2.96187524e+01, -1.68900032e+01,  2.11120851e+01,  2.13468380e+01,\n",
              "        6.02041982e+00,  1.96421660e+01,  2.57890225e+01,  1.99309231e+01,\n",
              "        1.59414784e+01,  2.56409900e+01,  2.56409900e+01,  1.82148745e+01,\n",
              "        9.18275775e+00,  2.01057981e+01,  3.50747176e+01,  4.26015626e+01,\n",
              "        1.39574982e+01,  1.80846829e+01,  1.59727016e+01,  5.86406372e+00,\n",
              "        2.48778947e+01,  2.21745505e+01,  2.07935734e+01,  1.23796240e+01,\n",
              "        3.19059292e+01,  1.35651070e+01,  2.09468408e+01, -8.66345741e-01,\n",
              "        3.57932001e+01,  2.54548930e+01,  1.90325867e+01,  1.27562624e+01,\n",
              "        3.12609105e+01,  5.86406372e+00,  1.66211281e+01,  2.25095730e+01,\n",
              "        2.45401579e+01,  1.43537098e+01,  2.57020983e+01,  1.69432442e+01,\n",
              "        8.17194813e+00,  1.61172573e+01,  3.39824944e+01,  2.44546393e+01,\n",
              "        1.74721217e+01,  2.43194469e+01,  2.47350787e+01,  2.45808890e+01,\n",
              "        1.10942369e+01, -3.50672760e-02,  2.04088735e+01,  1.83278225e+01,\n",
              "        2.59850127e+01,  1.96209420e+01,  3.78018783e+01,  3.86887919e+01,\n",
              "        3.89543780e+01,  2.02689390e+01,  1.61052700e+01,  1.41441026e+01,\n",
              "        2.56730432e+01, -1.07529851e+01,  2.85867705e+01,  2.39363061e+01,\n",
              "        2.00566694e+01,  2.43298069e+01,  1.70485032e+01,  2.89360972e+01,\n",
              "        1.98962878e+01,  2.56409900e+01,  2.60324072e+01,  1.05512688e+01,\n",
              "       -3.53370132e+00,  2.56409900e+01,  2.87399520e+01,  1.77098512e+01,\n",
              "        1.90427361e+01,  2.56409900e+01,  1.58540172e+01,  1.62432250e+01,\n",
              "        2.92452608e+01,  3.04586718e+01,  2.00872792e+01,  1.62432250e+01,\n",
              "        3.45577036e+01,  3.93363747e+01,  2.69363011e+01,  1.64040524e+01,\n",
              "        2.14079000e+01,  2.99351237e+01,  2.36045395e+01,  2.24468799e+01,\n",
              "       -6.60617824e-03,  1.96443525e+01,  3.36336665e+01,  1.13150579e+01,\n",
              "        1.78306241e+01,  1.88376751e+01,  1.08305762e+01,  1.33459683e+01,\n",
              "        2.28467678e+01,  2.29639776e+01,  2.49474906e+01,  2.98440624e+01,\n",
              "        1.71249988e+01,  2.67871531e+01,  1.67029478e+01,  1.46195890e+01,\n",
              "        2.93958121e+00,  2.54695456e+01,  2.51362171e+01,  5.86406372e+00,\n",
              "       -3.53370132e+00,  2.80607997e+01,  2.16066671e+01,  5.97218623e+00,\n",
              "       -3.53370132e+00,  1.47910224e+01,  2.36847941e+01,  2.90953375e+01,\n",
              "        2.39805922e+01,  1.84608321e+01,  1.84608321e+01, -1.90615275e+00,\n",
              "        1.41779308e+01,  3.72951325e+01,  1.70631329e+01,  1.69768652e+01,\n",
              "        2.92940529e+01,  1.98962878e+01,  1.73326023e+01,  5.86406372e+00,\n",
              "        2.14065636e+01,  2.03599031e+01,  1.62432250e+01,  1.62432250e+01,\n",
              "        3.10576004e+01,  1.84608321e+01,  3.10576004e+01,  1.12564185e+01,\n",
              "        3.22342729e+01,  2.01767337e+01,  2.44199840e+01,  1.73769342e+01,\n",
              "        2.16598354e+01,  2.16598354e+01,  5.46671344e+00,  5.86406372e+00,\n",
              "        2.64534701e+01,  2.56409900e+01,  2.16598354e+01,  2.16598354e+01,\n",
              "        1.54885775e+01,  2.76269743e+01,  4.38106875e+01,  3.85269710e+01,\n",
              "        2.01482232e+01,  2.56409900e+01,  4.00891183e+01,  3.18429711e+01,\n",
              "        2.56409900e+01,  2.16598354e+01,  2.90088938e+01,  1.98962878e+01,\n",
              "        5.86406372e+00, -1.26628301e+00,  9.95650308e+00, -3.53370132e+00,\n",
              "       -3.53370132e+00,  2.17056898e+01,  2.56409900e+01,  3.10576004e+01,\n",
              "        1.54050259e+01,  3.10576004e+01, -7.62412280e-01, -3.53370132e+00,\n",
              "        1.41779308e+01,  2.76468286e+00,  1.84608321e+01,  2.56409900e+01,\n",
              "        2.56409900e+01,  2.02300951e+01,  1.82639140e+01, -4.58243861e+00,\n",
              "        2.16536998e+01,  2.01482232e+01,  2.56409900e+01,  2.56409900e+01,\n",
              "        3.03275615e+01,  2.22398626e+01,  1.28420976e+01,  2.80343760e+01,\n",
              "        2.22398626e+01,  1.28420976e+01,  4.15938212e+01,  1.58653220e+01,\n",
              "        2.16598354e+01,  2.56409900e+01,  2.56569329e+01,  9.03145183e+00,\n",
              "        1.49337369e+01,  3.10576004e+01,  2.06520939e+01,  2.56409900e+01,\n",
              "        2.53251051e+01,  1.84608321e+01,  1.08266146e+01,  1.46756475e+01,\n",
              "       -3.53370132e+00,  3.10576004e+01,  3.10576004e+01,  3.10576004e+01,\n",
              "        2.56409900e+01,  2.56409900e+01,  2.56409900e+01,  2.56409900e+01,\n",
              "        2.13937203e+01,  1.15824207e+01,  1.15414249e+01,  1.95005347e+01,\n",
              "        1.08266146e+01,  2.02243797e+01,  2.85886035e+01,  2.65603802e+01,\n",
              "        1.94712063e+01,  1.08266146e+01,  7.62761129e+00,  3.64543092e+01,\n",
              "        1.60560113e+01,  4.07242776e+01,  1.84608321e+01,  1.62432250e+01,\n",
              "        1.96845911e+01,  2.56409900e+01,  3.10576004e+01,  2.56409900e+01,\n",
              "        8.55919631e+00, -7.62412280e-01,  1.78808049e+01,  1.54050259e+01,\n",
              "        1.84608321e+01,  1.98962878e+01,  2.16598354e+01,  3.38278032e+01,\n",
              "        1.92601724e+01,  2.56409900e+01,  2.42553455e+01,  1.50586876e+01,\n",
              "        1.67185455e+01,  2.16598354e+01,  5.86406372e+00,  2.26117269e+01,\n",
              "        2.34987264e+01,  2.56409900e+01,  2.70456657e+01,  5.63331746e+00,\n",
              "        2.50068097e+01,  2.56409900e+01,  2.11209381e+01,  2.56409900e+01,\n",
              "        2.31062170e+01,  2.16598354e+01,  1.62432250e+01,  3.10576004e+01,\n",
              "        3.10576004e+01,  3.10576004e+01,  1.62432250e+01,  9.06306704e+00,\n",
              "        3.10576004e+01,  1.22769808e+01,  1.82881805e+01,  2.34713114e+01,\n",
              "        2.56409900e+01,  1.98962878e+01,  1.88727707e+01,  8.30726094e+00,\n",
              "        3.18976317e+01,  3.10576004e+01,  2.47452084e+01,  1.64472211e+01,\n",
              "        2.90421175e+01,  1.57933785e+01,  1.84651529e+01,  2.57669577e+01,\n",
              "        2.57669577e+01,  2.16598354e+01,  1.33459683e+01,  2.14079000e+01,\n",
              "        2.27437333e+01,  1.26372228e+01,  1.95164928e+01,  1.55054916e+01,\n",
              "        2.60188931e+01,  2.16598354e+01,  1.96582964e+01,  2.16598354e+01,\n",
              "        2.40783379e+01,  5.86406372e+00,  1.84219440e+01,  2.43573521e+01,\n",
              "        1.85689546e+01,  1.33459683e+01,  2.16598354e+01,  1.53614512e+01,\n",
              "        2.76627761e+01,  6.29177800e+00,  6.29177800e+00,  3.51320865e+01,\n",
              "        4.36018559e-01,  2.27770051e+01,  1.90492846e+01,  1.97997927e+01,\n",
              "        3.82955828e+01,  1.08266146e+01,  1.27575270e+01,  2.37876971e+01,\n",
              "        1.84608321e+01,  2.56409900e+01,  2.10988641e+01,  1.82237734e+01,\n",
              "        1.53614512e+01,  1.96443525e+01,  1.09027711e+01,  9.25375641e+00,\n",
              "        5.53597190e+00,  1.41779308e+01,  2.16598354e+01,  1.82491522e+01,\n",
              "        1.61172573e+01,  1.84608321e+01,  2.02241515e+01,  2.16598354e+01,\n",
              "        1.73769342e+01,  2.87901821e+01,  3.10576004e+01,  1.84608321e+01,\n",
              "        1.96443525e+01,  2.90421175e+01,  1.94410854e+01,  2.11559647e+01,\n",
              "        2.14079000e+01,  3.30825957e+01,  1.96443525e+01,  2.33212122e+01,\n",
              "        2.07725076e+01,  2.27437333e+01,  2.27437333e+01,  9.06306704e+00,\n",
              "        9.06306704e+00,  2.96110718e+01,  2.16598354e+01,  2.16598354e+01,\n",
              "        2.16598354e+01,  3.43452141e+01,  2.16598354e+01,  9.06306704e+00,\n",
              "        1.23382268e+01,  2.01482232e+01,  3.43452141e+01,  2.01482232e+01,\n",
              "        1.73769342e+01,  2.16598354e+01,  2.42065534e+01,  2.16598354e+01,\n",
              "        2.16598354e+01,  2.16598354e+01,  1.62846222e+01,  3.10576004e+01,\n",
              "        9.06306704e+00,  1.65598821e+01,  2.60188931e+01,  3.10576004e+01,\n",
              "        3.10576004e+01,  2.14079000e+01,  3.00498590e+01,  3.10576004e+01,\n",
              "        2.47592163e+01,  1.96443525e+01,  3.00498590e+01,  1.98962878e+01,\n",
              "        1.74530906e+01,  3.10576004e+01,  1.91404817e+01,  1.98962878e+01,\n",
              "        2.56409900e+01,  3.10576004e+01,  3.10576004e+01,  3.10576004e+01,\n",
              "        1.66972845e+01,  2.29956687e+01,  2.16598354e+01,  2.56409900e+01,\n",
              "        1.11766564e+01,  2.84955394e+01,  1.61913278e+01,  1.38445185e+01,\n",
              "        5.86406372e+00,  3.10576004e+01,  3.10576004e+01,  3.10576004e+01,\n",
              "        5.86406372e+00,  3.10576004e+01,  9.43885269e+00,  3.10576004e+01,\n",
              "        2.87901821e+01,  9.06306704e+00,  4.78016580e+00,  2.15767021e+01,\n",
              "        5.86406372e+00,  1.93924171e+01,  2.71253652e+01,  1.31515515e+01,\n",
              "        2.97689897e+01,  3.79095725e+01,  2.16598354e+01,  1.56895430e+01,\n",
              "        2.56409900e+01,  2.61491876e+01,  1.62432250e+01,  3.03139459e+01,\n",
              "        2.16598354e+01,  2.56409900e+01,  2.56409900e+01,  3.74450936e+01,\n",
              "        2.72785699e+01,  3.08056651e+01,  1.00708085e+01,  2.56409900e+01,\n",
              "        3.10576004e+01,  2.72785699e+01,  2.37065829e+01,  2.74063698e+01,\n",
              "        1.69077878e+01,  3.10576004e+01,  2.36792799e+01,  5.86406372e+00,\n",
              "        1.20675366e+01,  2.14096430e+01,  2.37303998e+01,  3.14234206e+01,\n",
              "        3.40005119e+01,  1.33459683e+01,  1.94114546e+01,  1.78634963e+01,\n",
              "        2.00826902e+01,  5.97218623e+00,  1.76288695e+01,  8.79473335e+00,\n",
              "        1.91404817e+01,  3.16916994e+01,  2.26274516e+01,  2.73977239e+01,\n",
              "        2.80759081e+01,  2.21398892e+01,  1.98053069e+01,  3.32272928e+01,\n",
              "        2.25612726e+01,  1.68730634e+01,  1.25901622e+01,  2.61518528e+01,\n",
              "        2.50016265e+01,  2.53881525e+01,  3.10576004e+01,  3.10576004e+01,\n",
              "        2.94775505e+01,  2.64062398e+01,  3.08056651e+01,  2.44246345e+01,\n",
              "        1.68817784e+01,  2.01482232e+01,  3.74014578e+01,  1.73769342e+01,\n",
              "        1.81327403e+01,  2.54043318e+01,  1.93924171e+01,  1.61405818e+01,\n",
              "        2.56409900e+01,  1.91404817e+01,  2.16598354e+01,  5.86406372e+00,\n",
              "        2.49272053e+01,  2.69622845e+01,  8.05532557e+00,  5.86406372e+00,\n",
              "        2.62894073e+01,  1.73769342e+01,  2.56409900e+01,  1.33459683e+01,\n",
              "        1.40733422e+01,  2.16598354e+01,  2.56409900e+01,  1.94054218e+01,\n",
              "        2.04001586e+01,  3.99274449e+00,  2.27437333e+01,  2.56409900e+01,\n",
              "        1.62432250e+01,  2.56409900e+01,  3.10576004e+01,  2.95459882e+01,\n",
              "        1.85689546e+01,  2.34806830e+01,  1.71223427e+01,  3.10089751e+01,\n",
              "        1.52133176e+01,  2.92109132e+01,  1.51922518e+01,  2.56409900e+01,\n",
              "        2.61184416e+01, -3.53370132e+00,  1.43537098e+01,  1.73769342e+01,\n",
              "        1.43537098e+01,  1.68730634e+01,  3.08056651e+01,  1.01469650e+01,\n",
              "        1.55070823e+01,  1.48495665e+01,  2.42553455e+01,  1.53614512e+01,\n",
              "        7.61281418e+00,  6.32509964e+00,  1.81963034e+01,  4.43982520e+00,\n",
              "        1.05746792e+01,  1.36373216e+01,  2.56409900e+01,  2.92940529e+01,\n",
              "        2.09801858e+01,  5.86406372e+00,  1.86366110e+01,  3.10576004e+01,\n",
              "        2.16598354e+01,  1.26663186e+01,  2.56409900e+01,  1.48575805e+01,\n",
              "        2.27437333e+01,  2.16598354e+01,  3.26855360e+00,  2.56409900e+01,\n",
              "        1.05746792e+01,  3.57098078e+01, -2.70521065e+00,  2.56409900e+01,\n",
              "        2.51727536e+01,  1.54538103e+01,  3.84538891e+01,  2.57677784e+01,\n",
              "        5.86406372e+00,  2.09801858e+01,  1.67301615e+01,  2.16598354e+01,\n",
              "        1.78808049e+01,  1.65810028e+01,  2.16598354e+01,  1.84608321e+01,\n",
              "        1.00708085e+01,  1.85689546e+01,  2.18308011e+01,  3.06038844e+01,\n",
              "        2.56409900e+01,  2.81282983e+01,  3.10576004e+01,  2.14079000e+01,\n",
              "        1.96443525e+01,  2.82257587e+01,  2.08273558e+01,  2.97925995e+01,\n",
              "        2.90082893e+01,  2.56409900e+01,  2.16598354e+01,  2.11559647e+01,\n",
              "        2.16598354e+01,  2.36561519e+01,  2.72785699e+01,  2.16598354e+01,\n",
              "        2.56409900e+01,  2.11300765e+01,  2.76599786e+01,  1.77349758e+01,\n",
              "        1.53614512e+01,  2.31389940e+01,  2.08910768e+01,  3.68070492e+01,\n",
              "        5.86406372e+00,  2.16598354e+01,  2.56409900e+01,  2.56409900e+01,\n",
              "        3.10576004e+01,  2.14073935e+01,  2.69404267e+01,  2.12183556e+01,\n",
              "        2.56409900e+01,  1.71563726e+01,  2.09040293e+01,  1.62432250e+01,\n",
              "        1.57807515e+01,  7.91331989e+00,  2.23601197e+01,  2.68024424e+01,\n",
              "       -4.85709910e+00,  3.10576004e+01,  1.81672863e+01,  1.23382268e+01,\n",
              "        1.23382268e+01,  3.32285003e+01,  1.84608321e+01,  2.16598354e+01,\n",
              "        9.06306704e+00,  3.10576004e+01,  1.04694925e+01,  2.19377802e+01,\n",
              "        2.17852279e+01,  2.50898457e+01,  1.62432250e+01,  3.60789992e+01,\n",
              "        2.81802911e+01,  2.14173384e+01,  3.62780652e+01,  2.28608278e+01,\n",
              "        2.56409900e+01,  1.62432250e+01, -2.27402448e+00,  2.76468286e+00,\n",
              "        3.02490435e+01,  2.14005738e+01,  3.62651034e+01,  1.93924171e+01,\n",
              "        3.86467215e+01,  1.08266146e+01,  2.16598354e+01,  5.86406372e+00,\n",
              "        2.16598354e+01])"
            ]
          },
          "metadata": {},
          "execution_count": 245
        }
      ]
    },
    {
      "cell_type": "code",
      "source": [
        "y_pred2= modelE.predict(X=Shared[['host_acceptance_rate','review_scores_rating','review_scores_cleanliness','review_scores_communication']])\n",
        "y_pred2"
      ],
      "metadata": {
        "colab": {
          "base_uri": "https://localhost:8080/"
        },
        "id": "-Ah6l68yesYf",
        "outputId": "10021524-37eb-4a28-f152-b45c534208ec"
      },
      "execution_count": 246,
      "outputs": [
        {
          "output_type": "execute_result",
          "data": {
            "text/plain": [
              "array([25.8184059 , 18.5946153 , 25.64099005,  5.86406372,  5.14607557,\n",
              "       31.05760044, 31.05760044, 12.05349479, 31.14182559, 33.70688015])"
            ]
          },
          "metadata": {},
          "execution_count": 246
        }
      ]
    },
    {
      "cell_type": "code",
      "source": [
        "y_pred3= modelE.predict(X=Hotel[['host_acceptance_rate','review_scores_rating','review_scores_cleanliness','review_scores_communication']])\n",
        "y_pred3"
      ],
      "metadata": {
        "colab": {
          "base_uri": "https://localhost:8080/"
        },
        "id": "qWtWP6UpgT7O",
        "outputId": "d480386e-5b69-4d26-fe0b-48e940c486e5"
      },
      "execution_count": 262,
      "outputs": [
        {
          "output_type": "execute_result",
          "data": {
            "text/plain": [
              "array([21.65983541, 37.52478028, 29.24394118, 29.71539205, 23.72342789,\n",
              "       20.65157048, 21.65983541, 31.05760044, 21.65983541, 21.65983541,\n",
              "       31.05760044, 31.05760044, 21.65983541])"
            ]
          },
          "metadata": {},
          "execution_count": 262
        }
      ]
    },
    {
      "cell_type": "code",
      "source": [
        "#Entire\n",
        "coef_Deter=modelE.score(X=Vars_Indep_E, y=yE)\n",
        "coef_Deter"
      ],
      "metadata": {
        "colab": {
          "base_uri": "https://localhost:8080/"
        },
        "id": "XTUfg4K7Sw4J",
        "outputId": "4e91956b-a282-441e-882a-8023977d3a24"
      },
      "execution_count": 261,
      "outputs": [
        {
          "output_type": "execute_result",
          "data": {
            "text/plain": [
              "0.04241732466506709"
            ]
          },
          "metadata": {},
          "execution_count": 261
        }
      ]
    },
    {
      "cell_type": "code",
      "source": [
        "#Entire\n",
        "coef_Correl=np.sqrt(coef_Deter)\n",
        "coef_Correl"
      ],
      "metadata": {
        "colab": {
          "base_uri": "https://localhost:8080/"
        },
        "id": "kzevQmKkS03B",
        "outputId": "6f27a422-a743-4d3e-ed9e-62a7098a00ef"
      },
      "execution_count": 263,
      "outputs": [
        {
          "output_type": "execute_result",
          "data": {
            "text/plain": [
              "0.20595466652898908"
            ]
          },
          "metadata": {},
          "execution_count": 263
        }
      ]
    },
    {
      "cell_type": "code",
      "source": [
        "# Private \n",
        "coef_Deter1=modelE.score(X=Vars_Indep_P, y=yP)\n",
        "coef_Deter1"
      ],
      "metadata": {
        "colab": {
          "base_uri": "https://localhost:8080/"
        },
        "id": "b7-ondsZgdE_",
        "outputId": "5d29acd2-2880-4378-85f8-4e944c1dc389"
      },
      "execution_count": 267,
      "outputs": [
        {
          "output_type": "execute_result",
          "data": {
            "text/plain": [
              "0.014221789468182644"
            ]
          },
          "metadata": {},
          "execution_count": 267
        }
      ]
    },
    {
      "cell_type": "code",
      "source": [
        "coef_Correl1=np.sqrt(coef_Deter1)\n",
        "coef_Correl1"
      ],
      "metadata": {
        "colab": {
          "base_uri": "https://localhost:8080/"
        },
        "id": "G2SHjHc5gify",
        "outputId": "fbae7429-cbb5-4555-fa1d-d6572631428b"
      },
      "execution_count": 269,
      "outputs": [
        {
          "output_type": "execute_result",
          "data": {
            "text/plain": [
              "0.1192551444097178"
            ]
          },
          "metadata": {},
          "execution_count": 269
        }
      ]
    },
    {
      "cell_type": "code",
      "source": [
        "# Shared\n",
        "coef_Deter2=modelE.score(X=Vars_Indep_S, y=yS)\n",
        "coef_Deter2"
      ],
      "metadata": {
        "colab": {
          "base_uri": "https://localhost:8080/"
        },
        "id": "Q2HcU0Rigmcy",
        "outputId": "60b145bf-4900-4f9b-e1a3-61304a9137e9"
      },
      "execution_count": 270,
      "outputs": [
        {
          "output_type": "execute_result",
          "data": {
            "text/plain": [
              "-0.1637368416571776"
            ]
          },
          "metadata": {},
          "execution_count": 270
        }
      ]
    },
    {
      "cell_type": "code",
      "source": [
        "coef_Correl2=np.sqrt(coef_Deter2)\n",
        "coef_Correl2"
      ],
      "metadata": {
        "colab": {
          "base_uri": "https://localhost:8080/"
        },
        "id": "Ai_Ua9Szg0kz",
        "outputId": "1ef75a7e-4f83-44f3-f164-4be4d1979f4d"
      },
      "execution_count": 273,
      "outputs": [
        {
          "output_type": "stream",
          "name": "stderr",
          "text": [
            "/usr/local/lib/python3.7/dist-packages/ipykernel_launcher.py:1: RuntimeWarning: invalid value encountered in sqrt\n",
            "  \"\"\"Entry point for launching an IPython kernel.\n"
          ]
        },
        {
          "output_type": "execute_result",
          "data": {
            "text/plain": [
              "nan"
            ]
          },
          "metadata": {},
          "execution_count": 273
        }
      ]
    },
    {
      "cell_type": "code",
      "source": [
        "# Hotel\n",
        "coef_Deter3=modelE.score(X=Vars_Indep_H, y=yH)\n",
        "coef_Deter3"
      ],
      "metadata": {
        "colab": {
          "base_uri": "https://localhost:8080/"
        },
        "id": "Q0TrA74uhAA3",
        "outputId": "ef75db9b-f6a2-46ce-cd69-b17f17a3064d"
      },
      "execution_count": 274,
      "outputs": [
        {
          "output_type": "execute_result",
          "data": {
            "text/plain": [
              "-1.4500884949353758"
            ]
          },
          "metadata": {},
          "execution_count": 274
        }
      ]
    },
    {
      "cell_type": "code",
      "source": [
        "coef_Correl3=np.sqrt(coef_Deter3)\n",
        "coef_Correl3"
      ],
      "metadata": {
        "colab": {
          "base_uri": "https://localhost:8080/"
        },
        "id": "-KVpxFxshD7X",
        "outputId": "17127ae8-5db0-4d2c-f725-544a4081a7f4"
      },
      "execution_count": 275,
      "outputs": [
        {
          "output_type": "stream",
          "name": "stderr",
          "text": [
            "/usr/local/lib/python3.7/dist-packages/ipykernel_launcher.py:1: RuntimeWarning: invalid value encountered in sqrt\n",
            "  \"\"\"Entry point for launching an IPython kernel.\n"
          ]
        },
        {
          "output_type": "execute_result",
          "data": {
            "text/plain": [
              "nan"
            ]
          },
          "metadata": {},
          "execution_count": 275
        }
      ]
    }
  ]
}