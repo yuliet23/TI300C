{
  "nbformat": 4,
  "nbformat_minor": 0,
  "metadata": {
    "colab": {
      "provenance": []
    },
    "kernelspec": {
      "name": "python3",
      "display_name": "Python 3"
    },
    "language_info": {
      "name": "python"
    }
  },
  "cells": [
    {
      "cell_type": "code",
      "execution_count": 1,
      "metadata": {
        "id": "CKGIEL58dRzn"
      },
      "outputs": [],
      "source": [
        "import pandas as pd\n",
        "import numpy as np\n",
        "import matplotlib.pyplot as plt\n",
        "import seaborn as sns"
      ]
    },
    {
      "cell_type": "code",
      "source": [
        "df=pd.read_csv(\"AMSTERDAM.csv\")\n",
        "df"
      ],
      "metadata": {
        "id": "Ul3PQMXAd5XB",
        "colab": {
          "base_uri": "https://localhost:8080/",
          "height": 1000
        },
        "outputId": "27b768b9-abbd-45f1-bdeb-76ccfcaa8d7c"
      },
      "execution_count": 2,
      "outputs": [
        {
          "output_type": "execute_result",
          "data": {
            "text/plain": [
              "            id                            listing_url       scrape_id  \\\n",
              "0         2818      https://www.airbnb.com/rooms/2818  20220907151523   \n",
              "1        20168     https://www.airbnb.com/rooms/20168  20220907151523   \n",
              "2        27886     https://www.airbnb.com/rooms/27886  20220907151523   \n",
              "3        28871     https://www.airbnb.com/rooms/28871  20220907151523   \n",
              "4        29051     https://www.airbnb.com/rooms/29051  20220907151523   \n",
              "...        ...                                    ...             ...   \n",
              "6888  12690380  https://www.airbnb.com/rooms/12690380  20220907151523   \n",
              "6889  15005354  https://www.airbnb.com/rooms/15005354  20220907151523   \n",
              "6890  15171981  https://www.airbnb.com/rooms/15171981  20220907151523   \n",
              "6891  17567812  https://www.airbnb.com/rooms/17567812  20220907151523   \n",
              "6892  20084434  https://www.airbnb.com/rooms/20084434  20220907151523   \n",
              "\n",
              "     last_scraped           source  \\\n",
              "0      2022-09-07      city scrape   \n",
              "1      2022-09-07  previous scrape   \n",
              "2      2022-09-07      city scrape   \n",
              "3      2022-09-07      city scrape   \n",
              "4      2022-09-07      city scrape   \n",
              "...           ...              ...   \n",
              "6888   2022-09-07  previous scrape   \n",
              "6889   2022-09-07  previous scrape   \n",
              "6890   2022-09-07  previous scrape   \n",
              "6891   2022-09-07  previous scrape   \n",
              "6892   2022-09-07  previous scrape   \n",
              "\n",
              "                                                   name  \\\n",
              "0              Quiet Garden View Room & Super Fast WiFi   \n",
              "1          Studio with private bathroom in the centre 1   \n",
              "2     Romantic, stylish B&B houseboat in canal district   \n",
              "3                               Comfortable double room   \n",
              "4                               Comfortable single room   \n",
              "...                                                 ...   \n",
              "6888  Amsterdam, light big house 15 min from citycenter   \n",
              "6889                 Perfect family home near Amsterdam   \n",
              "6890  Child friendly house near Amsterdam - free par...   \n",
              "6891  Modern, spacious family home, 5 bedrooms-Amste...   \n",
              "6892  Single-family house (15m cycling center Amster...   \n",
              "\n",
              "                                            description  \\\n",
              "0     Quiet Garden View Room & Super Fast WiFi<br />...   \n",
              "1     17th century Dutch townhouse in the heart of t...   \n",
              "2     Stylish and romantic houseboat on fantastic hi...   \n",
              "3     <b>The space</b><br />In a monumental house ri...   \n",
              "4     This room can also accomodate 2 people.  For a...   \n",
              "...                                                 ...   \n",
              "6888  We have a comfortable cosy house with a garden...   \n",
              "6889  Our house is situated in a quiet neighborhood ...   \n",
              "6890  Lovely family house with beautiful garden in a...   \n",
              "6891  Our house is located just 10 minutes away from...   \n",
              "6892  Careful! The house has one double bed, one sin...   \n",
              "\n",
              "                                  neighborhood_overview  \\\n",
              "0     Indische Buurt (\"Indies Neighborhood\") is a ne...   \n",
              "1     Located just in between famous central canals....   \n",
              "2            Central, quiet, safe, clean and beautiful.   \n",
              "3          Flower market , Leidseplein , Rembrantsplein   \n",
              "4     the street is quite lively especially on weeke...   \n",
              "...                                                 ...   \n",
              "6888  Green and quiet lots of playgrounds for kids o...   \n",
              "6889  The house is situated in a beautiful neighbour...   \n",
              "6890  Located just outside of Amsterdam, in Duivendr...   \n",
              "6891  A very nice, quiet area, close to a park, fore...   \n",
              "6892  This is a little peace and quiet in the crazin...   \n",
              "\n",
              "                                            picture_url   host_id  ...  \\\n",
              "0     https://a0.muscache.com/pictures/10272854/8dcc...      3159  ...   \n",
              "1     https://a0.muscache.com/pictures/69979628/fd6a...     59484  ...   \n",
              "2     https://a0.muscache.com/pictures/02c2da9d-660e...     97647  ...   \n",
              "3     https://a0.muscache.com/pictures/160889/362340...    124245  ...   \n",
              "4     https://a0.muscache.com/pictures/162009/bd6be2...    124245  ...   \n",
              "...                                                 ...       ...  ...   \n",
              "6888  https://a0.muscache.com/pictures/a100d408-769c...  15032494  ...   \n",
              "6889  https://a0.muscache.com/pictures/7a7d8058-c3f7...  46437958  ...   \n",
              "6890  https://a0.muscache.com/pictures/50ab12e8-c478...  96286859  ...   \n",
              "6891  https://a0.muscache.com/pictures/89bba873-f6c1...  55072916  ...   \n",
              "6892  https://a0.muscache.com/pictures/b68d763a-2c1f...  29435851  ...   \n",
              "\n",
              "     review_scores_communication review_scores_location review_scores_value  \\\n",
              "0                           4.98                   4.69                4.82   \n",
              "1                           4.62                   4.87                4.49   \n",
              "2                           4.92                   4.89                4.79   \n",
              "3                           4.94                   4.96                4.83   \n",
              "4                           4.92                   4.87                4.77   \n",
              "...                          ...                    ...                 ...   \n",
              "6888                        4.68                   4.63                4.75   \n",
              "6889                        5.00                   4.89                4.83   \n",
              "6890                        4.71                   4.30                4.50   \n",
              "6891                        5.00                   4.75                4.88   \n",
              "6892                        4.86                   4.82                4.68   \n",
              "\n",
              "                       license instant_bookable  \\\n",
              "0     0363 5F3A 5684 6750 D14D                t   \n",
              "1     0363 CBB3 2C10 0C2A 1E29                t   \n",
              "2     0363 974D 4986 7411 88D8                t   \n",
              "3     0363 607B EA74 0BD8 2F6F                f   \n",
              "4     0363 607B EA74 0BD8 2F6F                f   \n",
              "...                        ...              ...   \n",
              "6888                       NaN                f   \n",
              "6889                       NaN                f   \n",
              "6890                       NaN                f   \n",
              "6891                       NaN                f   \n",
              "6892                       NaN                f   \n",
              "\n",
              "     calculated_host_listings_count  \\\n",
              "0                                 1   \n",
              "1                                 2   \n",
              "2                                 1   \n",
              "3                                 2   \n",
              "4                                 2   \n",
              "...                             ...   \n",
              "6888                              1   \n",
              "6889                              1   \n",
              "6890                              1   \n",
              "6891                              1   \n",
              "6892                              1   \n",
              "\n",
              "     calculated_host_listings_count_entire_homes  \\\n",
              "0                                              0   \n",
              "1                                              0   \n",
              "2                                              0   \n",
              "3                                              0   \n",
              "4                                              0   \n",
              "...                                          ...   \n",
              "6888                                           1   \n",
              "6889                                           1   \n",
              "6890                                           1   \n",
              "6891                                           1   \n",
              "6892                                           1   \n",
              "\n",
              "     calculated_host_listings_count_private_rooms  \\\n",
              "0                                               1   \n",
              "1                                               2   \n",
              "2                                               1   \n",
              "3                                               2   \n",
              "4                                               2   \n",
              "...                                           ...   \n",
              "6888                                            0   \n",
              "6889                                            0   \n",
              "6890                                            0   \n",
              "6891                                            0   \n",
              "6892                                            0   \n",
              "\n",
              "     calculated_host_listings_count_shared_rooms reviews_per_month  \n",
              "0                                              0              1.86  \n",
              "1                                              0              2.22  \n",
              "2                                              0              1.78  \n",
              "3                                              0              2.92  \n",
              "4                                              0              4.16  \n",
              "...                                          ...               ...  \n",
              "6888                                           0              0.36  \n",
              "6889                                           0              0.26  \n",
              "6890                                           0              0.29  \n",
              "6891                                           0              0.12  \n",
              "6892                                           0              0.37  \n",
              "\n",
              "[6893 rows x 75 columns]"
            ],
            "text/html": [
              "\n",
              "  <div id=\"df-7d4a24b1-e9ef-4944-a704-4db993e951b5\">\n",
              "    <div class=\"colab-df-container\">\n",
              "      <div>\n",
              "<style scoped>\n",
              "    .dataframe tbody tr th:only-of-type {\n",
              "        vertical-align: middle;\n",
              "    }\n",
              "\n",
              "    .dataframe tbody tr th {\n",
              "        vertical-align: top;\n",
              "    }\n",
              "\n",
              "    .dataframe thead th {\n",
              "        text-align: right;\n",
              "    }\n",
              "</style>\n",
              "<table border=\"1\" class=\"dataframe\">\n",
              "  <thead>\n",
              "    <tr style=\"text-align: right;\">\n",
              "      <th></th>\n",
              "      <th>id</th>\n",
              "      <th>listing_url</th>\n",
              "      <th>scrape_id</th>\n",
              "      <th>last_scraped</th>\n",
              "      <th>source</th>\n",
              "      <th>name</th>\n",
              "      <th>description</th>\n",
              "      <th>neighborhood_overview</th>\n",
              "      <th>picture_url</th>\n",
              "      <th>host_id</th>\n",
              "      <th>...</th>\n",
              "      <th>review_scores_communication</th>\n",
              "      <th>review_scores_location</th>\n",
              "      <th>review_scores_value</th>\n",
              "      <th>license</th>\n",
              "      <th>instant_bookable</th>\n",
              "      <th>calculated_host_listings_count</th>\n",
              "      <th>calculated_host_listings_count_entire_homes</th>\n",
              "      <th>calculated_host_listings_count_private_rooms</th>\n",
              "      <th>calculated_host_listings_count_shared_rooms</th>\n",
              "      <th>reviews_per_month</th>\n",
              "    </tr>\n",
              "  </thead>\n",
              "  <tbody>\n",
              "    <tr>\n",
              "      <th>0</th>\n",
              "      <td>2818</td>\n",
              "      <td>https://www.airbnb.com/rooms/2818</td>\n",
              "      <td>20220907151523</td>\n",
              "      <td>2022-09-07</td>\n",
              "      <td>city scrape</td>\n",
              "      <td>Quiet Garden View Room &amp; Super Fast WiFi</td>\n",
              "      <td>Quiet Garden View Room &amp; Super Fast WiFi&lt;br /&gt;...</td>\n",
              "      <td>Indische Buurt (\"Indies Neighborhood\") is a ne...</td>\n",
              "      <td>https://a0.muscache.com/pictures/10272854/8dcc...</td>\n",
              "      <td>3159</td>\n",
              "      <td>...</td>\n",
              "      <td>4.98</td>\n",
              "      <td>4.69</td>\n",
              "      <td>4.82</td>\n",
              "      <td>0363 5F3A 5684 6750 D14D</td>\n",
              "      <td>t</td>\n",
              "      <td>1</td>\n",
              "      <td>0</td>\n",
              "      <td>1</td>\n",
              "      <td>0</td>\n",
              "      <td>1.86</td>\n",
              "    </tr>\n",
              "    <tr>\n",
              "      <th>1</th>\n",
              "      <td>20168</td>\n",
              "      <td>https://www.airbnb.com/rooms/20168</td>\n",
              "      <td>20220907151523</td>\n",
              "      <td>2022-09-07</td>\n",
              "      <td>previous scrape</td>\n",
              "      <td>Studio with private bathroom in the centre 1</td>\n",
              "      <td>17th century Dutch townhouse in the heart of t...</td>\n",
              "      <td>Located just in between famous central canals....</td>\n",
              "      <td>https://a0.muscache.com/pictures/69979628/fd6a...</td>\n",
              "      <td>59484</td>\n",
              "      <td>...</td>\n",
              "      <td>4.62</td>\n",
              "      <td>4.87</td>\n",
              "      <td>4.49</td>\n",
              "      <td>0363 CBB3 2C10 0C2A 1E29</td>\n",
              "      <td>t</td>\n",
              "      <td>2</td>\n",
              "      <td>0</td>\n",
              "      <td>2</td>\n",
              "      <td>0</td>\n",
              "      <td>2.22</td>\n",
              "    </tr>\n",
              "    <tr>\n",
              "      <th>2</th>\n",
              "      <td>27886</td>\n",
              "      <td>https://www.airbnb.com/rooms/27886</td>\n",
              "      <td>20220907151523</td>\n",
              "      <td>2022-09-07</td>\n",
              "      <td>city scrape</td>\n",
              "      <td>Romantic, stylish B&amp;B houseboat in canal district</td>\n",
              "      <td>Stylish and romantic houseboat on fantastic hi...</td>\n",
              "      <td>Central, quiet, safe, clean and beautiful.</td>\n",
              "      <td>https://a0.muscache.com/pictures/02c2da9d-660e...</td>\n",
              "      <td>97647</td>\n",
              "      <td>...</td>\n",
              "      <td>4.92</td>\n",
              "      <td>4.89</td>\n",
              "      <td>4.79</td>\n",
              "      <td>0363 974D 4986 7411 88D8</td>\n",
              "      <td>t</td>\n",
              "      <td>1</td>\n",
              "      <td>0</td>\n",
              "      <td>1</td>\n",
              "      <td>0</td>\n",
              "      <td>1.78</td>\n",
              "    </tr>\n",
              "    <tr>\n",
              "      <th>3</th>\n",
              "      <td>28871</td>\n",
              "      <td>https://www.airbnb.com/rooms/28871</td>\n",
              "      <td>20220907151523</td>\n",
              "      <td>2022-09-07</td>\n",
              "      <td>city scrape</td>\n",
              "      <td>Comfortable double room</td>\n",
              "      <td>&lt;b&gt;The space&lt;/b&gt;&lt;br /&gt;In a monumental house ri...</td>\n",
              "      <td>Flower market , Leidseplein , Rembrantsplein</td>\n",
              "      <td>https://a0.muscache.com/pictures/160889/362340...</td>\n",
              "      <td>124245</td>\n",
              "      <td>...</td>\n",
              "      <td>4.94</td>\n",
              "      <td>4.96</td>\n",
              "      <td>4.83</td>\n",
              "      <td>0363 607B EA74 0BD8 2F6F</td>\n",
              "      <td>f</td>\n",
              "      <td>2</td>\n",
              "      <td>0</td>\n",
              "      <td>2</td>\n",
              "      <td>0</td>\n",
              "      <td>2.92</td>\n",
              "    </tr>\n",
              "    <tr>\n",
              "      <th>4</th>\n",
              "      <td>29051</td>\n",
              "      <td>https://www.airbnb.com/rooms/29051</td>\n",
              "      <td>20220907151523</td>\n",
              "      <td>2022-09-07</td>\n",
              "      <td>city scrape</td>\n",
              "      <td>Comfortable single room</td>\n",
              "      <td>This room can also accomodate 2 people.  For a...</td>\n",
              "      <td>the street is quite lively especially on weeke...</td>\n",
              "      <td>https://a0.muscache.com/pictures/162009/bd6be2...</td>\n",
              "      <td>124245</td>\n",
              "      <td>...</td>\n",
              "      <td>4.92</td>\n",
              "      <td>4.87</td>\n",
              "      <td>4.77</td>\n",
              "      <td>0363 607B EA74 0BD8 2F6F</td>\n",
              "      <td>f</td>\n",
              "      <td>2</td>\n",
              "      <td>0</td>\n",
              "      <td>2</td>\n",
              "      <td>0</td>\n",
              "      <td>4.16</td>\n",
              "    </tr>\n",
              "    <tr>\n",
              "      <th>...</th>\n",
              "      <td>...</td>\n",
              "      <td>...</td>\n",
              "      <td>...</td>\n",
              "      <td>...</td>\n",
              "      <td>...</td>\n",
              "      <td>...</td>\n",
              "      <td>...</td>\n",
              "      <td>...</td>\n",
              "      <td>...</td>\n",
              "      <td>...</td>\n",
              "      <td>...</td>\n",
              "      <td>...</td>\n",
              "      <td>...</td>\n",
              "      <td>...</td>\n",
              "      <td>...</td>\n",
              "      <td>...</td>\n",
              "      <td>...</td>\n",
              "      <td>...</td>\n",
              "      <td>...</td>\n",
              "      <td>...</td>\n",
              "      <td>...</td>\n",
              "    </tr>\n",
              "    <tr>\n",
              "      <th>6888</th>\n",
              "      <td>12690380</td>\n",
              "      <td>https://www.airbnb.com/rooms/12690380</td>\n",
              "      <td>20220907151523</td>\n",
              "      <td>2022-09-07</td>\n",
              "      <td>previous scrape</td>\n",
              "      <td>Amsterdam, light big house 15 min from citycenter</td>\n",
              "      <td>We have a comfortable cosy house with a garden...</td>\n",
              "      <td>Green and quiet lots of playgrounds for kids o...</td>\n",
              "      <td>https://a0.muscache.com/pictures/a100d408-769c...</td>\n",
              "      <td>15032494</td>\n",
              "      <td>...</td>\n",
              "      <td>4.68</td>\n",
              "      <td>4.63</td>\n",
              "      <td>4.75</td>\n",
              "      <td>NaN</td>\n",
              "      <td>f</td>\n",
              "      <td>1</td>\n",
              "      <td>1</td>\n",
              "      <td>0</td>\n",
              "      <td>0</td>\n",
              "      <td>0.36</td>\n",
              "    </tr>\n",
              "    <tr>\n",
              "      <th>6889</th>\n",
              "      <td>15005354</td>\n",
              "      <td>https://www.airbnb.com/rooms/15005354</td>\n",
              "      <td>20220907151523</td>\n",
              "      <td>2022-09-07</td>\n",
              "      <td>previous scrape</td>\n",
              "      <td>Perfect family home near Amsterdam</td>\n",
              "      <td>Our house is situated in a quiet neighborhood ...</td>\n",
              "      <td>The house is situated in a beautiful neighbour...</td>\n",
              "      <td>https://a0.muscache.com/pictures/7a7d8058-c3f7...</td>\n",
              "      <td>46437958</td>\n",
              "      <td>...</td>\n",
              "      <td>5.00</td>\n",
              "      <td>4.89</td>\n",
              "      <td>4.83</td>\n",
              "      <td>NaN</td>\n",
              "      <td>f</td>\n",
              "      <td>1</td>\n",
              "      <td>1</td>\n",
              "      <td>0</td>\n",
              "      <td>0</td>\n",
              "      <td>0.26</td>\n",
              "    </tr>\n",
              "    <tr>\n",
              "      <th>6890</th>\n",
              "      <td>15171981</td>\n",
              "      <td>https://www.airbnb.com/rooms/15171981</td>\n",
              "      <td>20220907151523</td>\n",
              "      <td>2022-09-07</td>\n",
              "      <td>previous scrape</td>\n",
              "      <td>Child friendly house near Amsterdam - free par...</td>\n",
              "      <td>Lovely family house with beautiful garden in a...</td>\n",
              "      <td>Located just outside of Amsterdam, in Duivendr...</td>\n",
              "      <td>https://a0.muscache.com/pictures/50ab12e8-c478...</td>\n",
              "      <td>96286859</td>\n",
              "      <td>...</td>\n",
              "      <td>4.71</td>\n",
              "      <td>4.30</td>\n",
              "      <td>4.50</td>\n",
              "      <td>NaN</td>\n",
              "      <td>f</td>\n",
              "      <td>1</td>\n",
              "      <td>1</td>\n",
              "      <td>0</td>\n",
              "      <td>0</td>\n",
              "      <td>0.29</td>\n",
              "    </tr>\n",
              "    <tr>\n",
              "      <th>6891</th>\n",
              "      <td>17567812</td>\n",
              "      <td>https://www.airbnb.com/rooms/17567812</td>\n",
              "      <td>20220907151523</td>\n",
              "      <td>2022-09-07</td>\n",
              "      <td>previous scrape</td>\n",
              "      <td>Modern, spacious family home, 5 bedrooms-Amste...</td>\n",
              "      <td>Our house is located just 10 minutes away from...</td>\n",
              "      <td>A very nice, quiet area, close to a park, fore...</td>\n",
              "      <td>https://a0.muscache.com/pictures/89bba873-f6c1...</td>\n",
              "      <td>55072916</td>\n",
              "      <td>...</td>\n",
              "      <td>5.00</td>\n",
              "      <td>4.75</td>\n",
              "      <td>4.88</td>\n",
              "      <td>NaN</td>\n",
              "      <td>f</td>\n",
              "      <td>1</td>\n",
              "      <td>1</td>\n",
              "      <td>0</td>\n",
              "      <td>0</td>\n",
              "      <td>0.12</td>\n",
              "    </tr>\n",
              "    <tr>\n",
              "      <th>6892</th>\n",
              "      <td>20084434</td>\n",
              "      <td>https://www.airbnb.com/rooms/20084434</td>\n",
              "      <td>20220907151523</td>\n",
              "      <td>2022-09-07</td>\n",
              "      <td>previous scrape</td>\n",
              "      <td>Single-family house (15m cycling center Amster...</td>\n",
              "      <td>Careful! The house has one double bed, one sin...</td>\n",
              "      <td>This is a little peace and quiet in the crazin...</td>\n",
              "      <td>https://a0.muscache.com/pictures/b68d763a-2c1f...</td>\n",
              "      <td>29435851</td>\n",
              "      <td>...</td>\n",
              "      <td>4.86</td>\n",
              "      <td>4.82</td>\n",
              "      <td>4.68</td>\n",
              "      <td>NaN</td>\n",
              "      <td>f</td>\n",
              "      <td>1</td>\n",
              "      <td>1</td>\n",
              "      <td>0</td>\n",
              "      <td>0</td>\n",
              "      <td>0.37</td>\n",
              "    </tr>\n",
              "  </tbody>\n",
              "</table>\n",
              "<p>6893 rows × 75 columns</p>\n",
              "</div>\n",
              "      <button class=\"colab-df-convert\" onclick=\"convertToInteractive('df-7d4a24b1-e9ef-4944-a704-4db993e951b5')\"\n",
              "              title=\"Convert this dataframe to an interactive table.\"\n",
              "              style=\"display:none;\">\n",
              "        \n",
              "  <svg xmlns=\"http://www.w3.org/2000/svg\" height=\"24px\"viewBox=\"0 0 24 24\"\n",
              "       width=\"24px\">\n",
              "    <path d=\"M0 0h24v24H0V0z\" fill=\"none\"/>\n",
              "    <path d=\"M18.56 5.44l.94 2.06.94-2.06 2.06-.94-2.06-.94-.94-2.06-.94 2.06-2.06.94zm-11 1L8.5 8.5l.94-2.06 2.06-.94-2.06-.94L8.5 2.5l-.94 2.06-2.06.94zm10 10l.94 2.06.94-2.06 2.06-.94-2.06-.94-.94-2.06-.94 2.06-2.06.94z\"/><path d=\"M17.41 7.96l-1.37-1.37c-.4-.4-.92-.59-1.43-.59-.52 0-1.04.2-1.43.59L10.3 9.45l-7.72 7.72c-.78.78-.78 2.05 0 2.83L4 21.41c.39.39.9.59 1.41.59.51 0 1.02-.2 1.41-.59l7.78-7.78 2.81-2.81c.8-.78.8-2.07 0-2.86zM5.41 20L4 18.59l7.72-7.72 1.47 1.35L5.41 20z\"/>\n",
              "  </svg>\n",
              "      </button>\n",
              "      \n",
              "  <style>\n",
              "    .colab-df-container {\n",
              "      display:flex;\n",
              "      flex-wrap:wrap;\n",
              "      gap: 12px;\n",
              "    }\n",
              "\n",
              "    .colab-df-convert {\n",
              "      background-color: #E8F0FE;\n",
              "      border: none;\n",
              "      border-radius: 50%;\n",
              "      cursor: pointer;\n",
              "      display: none;\n",
              "      fill: #1967D2;\n",
              "      height: 32px;\n",
              "      padding: 0 0 0 0;\n",
              "      width: 32px;\n",
              "    }\n",
              "\n",
              "    .colab-df-convert:hover {\n",
              "      background-color: #E2EBFA;\n",
              "      box-shadow: 0px 1px 2px rgba(60, 64, 67, 0.3), 0px 1px 3px 1px rgba(60, 64, 67, 0.15);\n",
              "      fill: #174EA6;\n",
              "    }\n",
              "\n",
              "    [theme=dark] .colab-df-convert {\n",
              "      background-color: #3B4455;\n",
              "      fill: #D2E3FC;\n",
              "    }\n",
              "\n",
              "    [theme=dark] .colab-df-convert:hover {\n",
              "      background-color: #434B5C;\n",
              "      box-shadow: 0px 1px 3px 1px rgba(0, 0, 0, 0.15);\n",
              "      filter: drop-shadow(0px 1px 2px rgba(0, 0, 0, 0.3));\n",
              "      fill: #FFFFFF;\n",
              "    }\n",
              "  </style>\n",
              "\n",
              "      <script>\n",
              "        const buttonEl =\n",
              "          document.querySelector('#df-7d4a24b1-e9ef-4944-a704-4db993e951b5 button.colab-df-convert');\n",
              "        buttonEl.style.display =\n",
              "          google.colab.kernel.accessAllowed ? 'block' : 'none';\n",
              "\n",
              "        async function convertToInteractive(key) {\n",
              "          const element = document.querySelector('#df-7d4a24b1-e9ef-4944-a704-4db993e951b5');\n",
              "          const dataTable =\n",
              "            await google.colab.kernel.invokeFunction('convertToInteractive',\n",
              "                                                     [key], {});\n",
              "          if (!dataTable) return;\n",
              "\n",
              "          const docLinkHtml = 'Like what you see? Visit the ' +\n",
              "            '<a target=\"_blank\" href=https://colab.research.google.com/notebooks/data_table.ipynb>data table notebook</a>'\n",
              "            + ' to learn more about interactive tables.';\n",
              "          element.innerHTML = '';\n",
              "          dataTable['output_type'] = 'display_data';\n",
              "          await google.colab.output.renderOutput(dataTable, element);\n",
              "          const docLink = document.createElement('div');\n",
              "          docLink.innerHTML = docLinkHtml;\n",
              "          element.appendChild(docLink);\n",
              "        }\n",
              "      </script>\n",
              "    </div>\n",
              "  </div>\n",
              "  "
            ]
          },
          "metadata": {},
          "execution_count": 2
        }
      ]
    },
    {
      "cell_type": "code",
      "source": [
        "df=df.drop(['host_location','id','listing_url', 'scrape_id', 'last_scraped', 'source', 'name',\n",
        "       'description', 'neighborhood_overview', 'picture_url', 'host_id',\n",
        "       'host_url', 'host_name', 'host_since', 'host_about',\n",
        "       'host_response_time', 'host_response_rate',\n",
        "       'host_is_superhost', 'host_thumbnail_url', 'host_picture_url',\n",
        "       'host_neighbourhood', 'host_listings_count',\n",
        "       'host_total_listings_count', 'host_verifications',\n",
        "       'host_has_profile_pic', 'host_identity_verified', 'neighbourhood',\n",
        "       'neighbourhood_cleansed', 'neighbourhood_group_cleansed', 'latitude',\n",
        "       'longitude','accommodates', 'bathrooms',\n",
        "       'bathrooms_text', 'bedrooms', 'beds', 'amenities',\n",
        "       'minimum_nights', 'maximum_nights', 'minimum_minimum_nights',\n",
        "       'maximum_minimum_nights', 'minimum_maximum_nights',\n",
        "       'maximum_maximum_nights', 'minimum_nights_avg_ntm',\n",
        "       'maximum_nights_avg_ntm', 'calendar_updated', 'has_availability',\n",
        "       'availability_30', 'availability_60', 'availability_90','calendar_last_scraped',\n",
        "       'number_of_reviews_ltm', 'number_of_reviews_l30d', 'first_review',\n",
        "       'last_review','review_scores_accuracy','review_scores_checkin', 'review_scores_location',\n",
        "       'review_scores_value', 'license', 'instant_bookable',\n",
        "       'calculated_host_listings_count',\n",
        "       'calculated_host_listings_count_entire_homes',\n",
        "       'calculated_host_listings_count_private_rooms',\n",
        "       'calculated_host_listings_count_shared_rooms', 'reviews_per_month'], axis=1)"
      ],
      "metadata": {
        "id": "WJO3Bp3Xd7VZ"
      },
      "execution_count": 3,
      "outputs": []
    },
    {
      "cell_type": "markdown",
      "source": [
        "**host_acceptance_rate**"
      ],
      "metadata": {
        "id": "Sb5i6RoneCAj"
      }
    },
    {
      "cell_type": "code",
      "source": [
        "df[\"host_acceptance_rate\"] = df[\"host_acceptance_rate\"].str.replace(\"%\",\"\")"
      ],
      "metadata": {
        "id": "gK8FArw7d-g9"
      },
      "execution_count": 4,
      "outputs": []
    },
    {
      "cell_type": "code",
      "source": [
        "df['host_acceptance_rate']=df['host_acceptance_rate'].astype(float)"
      ],
      "metadata": {
        "id": "powvwaeaeEIx"
      },
      "execution_count": 5,
      "outputs": []
    },
    {
      "cell_type": "code",
      "source": [
        "df.info()"
      ],
      "metadata": {
        "colab": {
          "base_uri": "https://localhost:8080/"
        },
        "id": "KsGkDNxmeGZO",
        "outputId": "f410780e-96e1-496f-8377-787b7edb7dec"
      },
      "execution_count": 6,
      "outputs": [
        {
          "output_type": "stream",
          "name": "stdout",
          "text": [
            "<class 'pandas.core.frame.DataFrame'>\n",
            "RangeIndex: 6893 entries, 0 to 6892\n",
            "Data columns (total 9 columns):\n",
            " #   Column                       Non-Null Count  Dtype  \n",
            "---  ------                       --------------  -----  \n",
            " 0   host_acceptance_rate         6031 non-null   float64\n",
            " 1   property_type                6893 non-null   object \n",
            " 2   room_type                    6893 non-null   object \n",
            " 3   price                        6893 non-null   object \n",
            " 4   availability_365             6893 non-null   int64  \n",
            " 5   number_of_reviews            6893 non-null   int64  \n",
            " 6   review_scores_rating         6247 non-null   float64\n",
            " 7   review_scores_cleanliness    6242 non-null   float64\n",
            " 8   review_scores_communication  6242 non-null   float64\n",
            "dtypes: float64(4), int64(2), object(3)\n",
            "memory usage: 484.8+ KB\n"
          ]
        }
      ]
    },
    {
      "cell_type": "code",
      "source": [
        "df2=df.copy()\n",
        "df2=df2.fillna(round(df.mean(),1))"
      ],
      "metadata": {
        "colab": {
          "base_uri": "https://localhost:8080/"
        },
        "id": "8HOf3xMLeJck",
        "outputId": "2de9e7e0-5602-40ca-d7bd-f386bfe47572"
      },
      "execution_count": 7,
      "outputs": [
        {
          "output_type": "stream",
          "name": "stderr",
          "text": [
            "/usr/local/lib/python3.7/dist-packages/ipykernel_launcher.py:2: FutureWarning: Dropping of nuisance columns in DataFrame reductions (with 'numeric_only=None') is deprecated; in a future version this will raise TypeError.  Select only valid columns before calling the reduction.\n",
            "  \n"
          ]
        }
      ]
    },
    {
      "cell_type": "markdown",
      "source": [
        "**price**"
      ],
      "metadata": {
        "id": "weff_IB5eP0Q"
      }
    },
    {
      "cell_type": "code",
      "source": [
        "df2[\"price\"] = df2[\"price\"].str.replace(\"$\",\"\")\n",
        "df2[\"price\"] = df2[\"price\"].str.replace(\",\",\"\")\n",
        "df2[\"price\"] = df2[\"price\"].str.replace(\".\",\"\")"
      ],
      "metadata": {
        "colab": {
          "base_uri": "https://localhost:8080/"
        },
        "id": "DCuZDQMueRaF",
        "outputId": "95c737cf-2855-46bd-d662-e5b7e812967b"
      },
      "execution_count": 8,
      "outputs": [
        {
          "output_type": "stream",
          "name": "stderr",
          "text": [
            "/usr/local/lib/python3.7/dist-packages/ipykernel_launcher.py:1: FutureWarning: The default value of regex will change from True to False in a future version. In addition, single character regular expressions will *not* be treated as literal strings when regex=True.\n",
            "  \"\"\"Entry point for launching an IPython kernel.\n",
            "/usr/local/lib/python3.7/dist-packages/ipykernel_launcher.py:3: FutureWarning: The default value of regex will change from True to False in a future version. In addition, single character regular expressions will *not* be treated as literal strings when regex=True.\n",
            "  This is separate from the ipykernel package so we can avoid doing imports until\n"
          ]
        }
      ]
    },
    {
      "cell_type": "code",
      "source": [
        "df2['price']=df2['price'].astype(int)"
      ],
      "metadata": {
        "id": "f0Eb28eLeT5H"
      },
      "execution_count": 9,
      "outputs": []
    },
    {
      "cell_type": "code",
      "source": [
        "df2"
      ],
      "metadata": {
        "colab": {
          "base_uri": "https://localhost:8080/",
          "height": 661
        },
        "id": "x5ezAW3-eLIw",
        "outputId": "7fe1aa43-f50b-43b5-8d13-38533eee5f1d"
      },
      "execution_count": 10,
      "outputs": [
        {
          "output_type": "execute_result",
          "data": {
            "text/plain": [
              "      host_acceptance_rate                property_type        room_type  \\\n",
              "0                    100.0  Private room in rental unit     Private room   \n",
              "1                     98.0    Private room in townhouse     Private room   \n",
              "2                    100.0    Private room in houseboat     Private room   \n",
              "3                    100.0  Private room in rental unit     Private room   \n",
              "4                    100.0  Private room in rental unit     Private room   \n",
              "...                    ...                          ...              ...   \n",
              "6888                 100.0             Entire townhouse  Entire home/apt   \n",
              "6889                  50.0                  Entire home  Entire home/apt   \n",
              "6890                 100.0                  Entire home  Entire home/apt   \n",
              "6891                   0.0                  Entire home  Entire home/apt   \n",
              "6892                  36.0                  Entire home  Entire home/apt   \n",
              "\n",
              "      price  availability_365  number_of_reviews  review_scores_rating  \\\n",
              "0      4900                14                305                  4.89   \n",
              "1     10600                 0                339                  4.44   \n",
              "2     13600               121                231                  4.94   \n",
              "3      7500               117                428                  4.88   \n",
              "4      5500               160                582                  4.79   \n",
              "...     ...               ...                ...                   ...   \n",
              "6888  30000                 0                 28                  4.73   \n",
              "6889  19500                 0                 18                  5.00   \n",
              "6890  44900                 0                 21                  4.90   \n",
              "6891  28200                 0                  8                  5.00   \n",
              "6892  20000                 0                 22                  4.86   \n",
              "\n",
              "      review_scores_cleanliness  review_scores_communication  \n",
              "0                          5.00                         4.98  \n",
              "1                          4.79                         4.62  \n",
              "2                          4.95                         4.92  \n",
              "3                          4.89                         4.94  \n",
              "4                          4.84                         4.92  \n",
              "...                         ...                          ...  \n",
              "6888                       4.69                         4.68  \n",
              "6889                       4.94                         5.00  \n",
              "6890                       4.90                         4.71  \n",
              "6891                       5.00                         5.00  \n",
              "6892                       4.86                         4.86  \n",
              "\n",
              "[6893 rows x 9 columns]"
            ],
            "text/html": [
              "\n",
              "  <div id=\"df-c2811024-3ace-47e6-b6c9-4fa4eefe673d\">\n",
              "    <div class=\"colab-df-container\">\n",
              "      <div>\n",
              "<style scoped>\n",
              "    .dataframe tbody tr th:only-of-type {\n",
              "        vertical-align: middle;\n",
              "    }\n",
              "\n",
              "    .dataframe tbody tr th {\n",
              "        vertical-align: top;\n",
              "    }\n",
              "\n",
              "    .dataframe thead th {\n",
              "        text-align: right;\n",
              "    }\n",
              "</style>\n",
              "<table border=\"1\" class=\"dataframe\">\n",
              "  <thead>\n",
              "    <tr style=\"text-align: right;\">\n",
              "      <th></th>\n",
              "      <th>host_acceptance_rate</th>\n",
              "      <th>property_type</th>\n",
              "      <th>room_type</th>\n",
              "      <th>price</th>\n",
              "      <th>availability_365</th>\n",
              "      <th>number_of_reviews</th>\n",
              "      <th>review_scores_rating</th>\n",
              "      <th>review_scores_cleanliness</th>\n",
              "      <th>review_scores_communication</th>\n",
              "    </tr>\n",
              "  </thead>\n",
              "  <tbody>\n",
              "    <tr>\n",
              "      <th>0</th>\n",
              "      <td>100.0</td>\n",
              "      <td>Private room in rental unit</td>\n",
              "      <td>Private room</td>\n",
              "      <td>4900</td>\n",
              "      <td>14</td>\n",
              "      <td>305</td>\n",
              "      <td>4.89</td>\n",
              "      <td>5.00</td>\n",
              "      <td>4.98</td>\n",
              "    </tr>\n",
              "    <tr>\n",
              "      <th>1</th>\n",
              "      <td>98.0</td>\n",
              "      <td>Private room in townhouse</td>\n",
              "      <td>Private room</td>\n",
              "      <td>10600</td>\n",
              "      <td>0</td>\n",
              "      <td>339</td>\n",
              "      <td>4.44</td>\n",
              "      <td>4.79</td>\n",
              "      <td>4.62</td>\n",
              "    </tr>\n",
              "    <tr>\n",
              "      <th>2</th>\n",
              "      <td>100.0</td>\n",
              "      <td>Private room in houseboat</td>\n",
              "      <td>Private room</td>\n",
              "      <td>13600</td>\n",
              "      <td>121</td>\n",
              "      <td>231</td>\n",
              "      <td>4.94</td>\n",
              "      <td>4.95</td>\n",
              "      <td>4.92</td>\n",
              "    </tr>\n",
              "    <tr>\n",
              "      <th>3</th>\n",
              "      <td>100.0</td>\n",
              "      <td>Private room in rental unit</td>\n",
              "      <td>Private room</td>\n",
              "      <td>7500</td>\n",
              "      <td>117</td>\n",
              "      <td>428</td>\n",
              "      <td>4.88</td>\n",
              "      <td>4.89</td>\n",
              "      <td>4.94</td>\n",
              "    </tr>\n",
              "    <tr>\n",
              "      <th>4</th>\n",
              "      <td>100.0</td>\n",
              "      <td>Private room in rental unit</td>\n",
              "      <td>Private room</td>\n",
              "      <td>5500</td>\n",
              "      <td>160</td>\n",
              "      <td>582</td>\n",
              "      <td>4.79</td>\n",
              "      <td>4.84</td>\n",
              "      <td>4.92</td>\n",
              "    </tr>\n",
              "    <tr>\n",
              "      <th>...</th>\n",
              "      <td>...</td>\n",
              "      <td>...</td>\n",
              "      <td>...</td>\n",
              "      <td>...</td>\n",
              "      <td>...</td>\n",
              "      <td>...</td>\n",
              "      <td>...</td>\n",
              "      <td>...</td>\n",
              "      <td>...</td>\n",
              "    </tr>\n",
              "    <tr>\n",
              "      <th>6888</th>\n",
              "      <td>100.0</td>\n",
              "      <td>Entire townhouse</td>\n",
              "      <td>Entire home/apt</td>\n",
              "      <td>30000</td>\n",
              "      <td>0</td>\n",
              "      <td>28</td>\n",
              "      <td>4.73</td>\n",
              "      <td>4.69</td>\n",
              "      <td>4.68</td>\n",
              "    </tr>\n",
              "    <tr>\n",
              "      <th>6889</th>\n",
              "      <td>50.0</td>\n",
              "      <td>Entire home</td>\n",
              "      <td>Entire home/apt</td>\n",
              "      <td>19500</td>\n",
              "      <td>0</td>\n",
              "      <td>18</td>\n",
              "      <td>5.00</td>\n",
              "      <td>4.94</td>\n",
              "      <td>5.00</td>\n",
              "    </tr>\n",
              "    <tr>\n",
              "      <th>6890</th>\n",
              "      <td>100.0</td>\n",
              "      <td>Entire home</td>\n",
              "      <td>Entire home/apt</td>\n",
              "      <td>44900</td>\n",
              "      <td>0</td>\n",
              "      <td>21</td>\n",
              "      <td>4.90</td>\n",
              "      <td>4.90</td>\n",
              "      <td>4.71</td>\n",
              "    </tr>\n",
              "    <tr>\n",
              "      <th>6891</th>\n",
              "      <td>0.0</td>\n",
              "      <td>Entire home</td>\n",
              "      <td>Entire home/apt</td>\n",
              "      <td>28200</td>\n",
              "      <td>0</td>\n",
              "      <td>8</td>\n",
              "      <td>5.00</td>\n",
              "      <td>5.00</td>\n",
              "      <td>5.00</td>\n",
              "    </tr>\n",
              "    <tr>\n",
              "      <th>6892</th>\n",
              "      <td>36.0</td>\n",
              "      <td>Entire home</td>\n",
              "      <td>Entire home/apt</td>\n",
              "      <td>20000</td>\n",
              "      <td>0</td>\n",
              "      <td>22</td>\n",
              "      <td>4.86</td>\n",
              "      <td>4.86</td>\n",
              "      <td>4.86</td>\n",
              "    </tr>\n",
              "  </tbody>\n",
              "</table>\n",
              "<p>6893 rows × 9 columns</p>\n",
              "</div>\n",
              "      <button class=\"colab-df-convert\" onclick=\"convertToInteractive('df-c2811024-3ace-47e6-b6c9-4fa4eefe673d')\"\n",
              "              title=\"Convert this dataframe to an interactive table.\"\n",
              "              style=\"display:none;\">\n",
              "        \n",
              "  <svg xmlns=\"http://www.w3.org/2000/svg\" height=\"24px\"viewBox=\"0 0 24 24\"\n",
              "       width=\"24px\">\n",
              "    <path d=\"M0 0h24v24H0V0z\" fill=\"none\"/>\n",
              "    <path d=\"M18.56 5.44l.94 2.06.94-2.06 2.06-.94-2.06-.94-.94-2.06-.94 2.06-2.06.94zm-11 1L8.5 8.5l.94-2.06 2.06-.94-2.06-.94L8.5 2.5l-.94 2.06-2.06.94zm10 10l.94 2.06.94-2.06 2.06-.94-2.06-.94-.94-2.06-.94 2.06-2.06.94z\"/><path d=\"M17.41 7.96l-1.37-1.37c-.4-.4-.92-.59-1.43-.59-.52 0-1.04.2-1.43.59L10.3 9.45l-7.72 7.72c-.78.78-.78 2.05 0 2.83L4 21.41c.39.39.9.59 1.41.59.51 0 1.02-.2 1.41-.59l7.78-7.78 2.81-2.81c.8-.78.8-2.07 0-2.86zM5.41 20L4 18.59l7.72-7.72 1.47 1.35L5.41 20z\"/>\n",
              "  </svg>\n",
              "      </button>\n",
              "      \n",
              "  <style>\n",
              "    .colab-df-container {\n",
              "      display:flex;\n",
              "      flex-wrap:wrap;\n",
              "      gap: 12px;\n",
              "    }\n",
              "\n",
              "    .colab-df-convert {\n",
              "      background-color: #E8F0FE;\n",
              "      border: none;\n",
              "      border-radius: 50%;\n",
              "      cursor: pointer;\n",
              "      display: none;\n",
              "      fill: #1967D2;\n",
              "      height: 32px;\n",
              "      padding: 0 0 0 0;\n",
              "      width: 32px;\n",
              "    }\n",
              "\n",
              "    .colab-df-convert:hover {\n",
              "      background-color: #E2EBFA;\n",
              "      box-shadow: 0px 1px 2px rgba(60, 64, 67, 0.3), 0px 1px 3px 1px rgba(60, 64, 67, 0.15);\n",
              "      fill: #174EA6;\n",
              "    }\n",
              "\n",
              "    [theme=dark] .colab-df-convert {\n",
              "      background-color: #3B4455;\n",
              "      fill: #D2E3FC;\n",
              "    }\n",
              "\n",
              "    [theme=dark] .colab-df-convert:hover {\n",
              "      background-color: #434B5C;\n",
              "      box-shadow: 0px 1px 3px 1px rgba(0, 0, 0, 0.15);\n",
              "      filter: drop-shadow(0px 1px 2px rgba(0, 0, 0, 0.3));\n",
              "      fill: #FFFFFF;\n",
              "    }\n",
              "  </style>\n",
              "\n",
              "      <script>\n",
              "        const buttonEl =\n",
              "          document.querySelector('#df-c2811024-3ace-47e6-b6c9-4fa4eefe673d button.colab-df-convert');\n",
              "        buttonEl.style.display =\n",
              "          google.colab.kernel.accessAllowed ? 'block' : 'none';\n",
              "\n",
              "        async function convertToInteractive(key) {\n",
              "          const element = document.querySelector('#df-c2811024-3ace-47e6-b6c9-4fa4eefe673d');\n",
              "          const dataTable =\n",
              "            await google.colab.kernel.invokeFunction('convertToInteractive',\n",
              "                                                     [key], {});\n",
              "          if (!dataTable) return;\n",
              "\n",
              "          const docLinkHtml = 'Like what you see? Visit the ' +\n",
              "            '<a target=\"_blank\" href=https://colab.research.google.com/notebooks/data_table.ipynb>data table notebook</a>'\n",
              "            + ' to learn more about interactive tables.';\n",
              "          element.innerHTML = '';\n",
              "          dataTable['output_type'] = 'display_data';\n",
              "          await google.colab.output.renderOutput(dataTable, element);\n",
              "          const docLink = document.createElement('div');\n",
              "          docLink.innerHTML = docLinkHtml;\n",
              "          element.appendChild(docLink);\n",
              "        }\n",
              "      </script>\n",
              "    </div>\n",
              "  </div>\n",
              "  "
            ]
          },
          "metadata": {},
          "execution_count": 10
        }
      ]
    },
    {
      "cell_type": "code",
      "source": [
        "df2.isnull().sum()"
      ],
      "metadata": {
        "colab": {
          "base_uri": "https://localhost:8080/"
        },
        "id": "7V91c2VSeVQg",
        "outputId": "489d7569-1765-4b8b-e5d1-2046c0657b02"
      },
      "execution_count": 11,
      "outputs": [
        {
          "output_type": "execute_result",
          "data": {
            "text/plain": [
              "host_acceptance_rate           0\n",
              "property_type                  0\n",
              "room_type                      0\n",
              "price                          0\n",
              "availability_365               0\n",
              "number_of_reviews              0\n",
              "review_scores_rating           0\n",
              "review_scores_cleanliness      0\n",
              "review_scores_communication    0\n",
              "dtype: int64"
            ]
          },
          "metadata": {},
          "execution_count": 11
        }
      ]
    },
    {
      "cell_type": "code",
      "source": [
        "df2.info()"
      ],
      "metadata": {
        "colab": {
          "base_uri": "https://localhost:8080/"
        },
        "id": "iF27Adl3eWsQ",
        "outputId": "0a76798f-b70a-4a7c-cc2c-fc339ab42059"
      },
      "execution_count": 12,
      "outputs": [
        {
          "output_type": "stream",
          "name": "stdout",
          "text": [
            "<class 'pandas.core.frame.DataFrame'>\n",
            "RangeIndex: 6893 entries, 0 to 6892\n",
            "Data columns (total 9 columns):\n",
            " #   Column                       Non-Null Count  Dtype  \n",
            "---  ------                       --------------  -----  \n",
            " 0   host_acceptance_rate         6893 non-null   float64\n",
            " 1   property_type                6893 non-null   object \n",
            " 2   room_type                    6893 non-null   object \n",
            " 3   price                        6893 non-null   int64  \n",
            " 4   availability_365             6893 non-null   int64  \n",
            " 5   number_of_reviews            6893 non-null   int64  \n",
            " 6   review_scores_rating         6893 non-null   float64\n",
            " 7   review_scores_cleanliness    6893 non-null   float64\n",
            " 8   review_scores_communication  6893 non-null   float64\n",
            "dtypes: float64(4), int64(3), object(2)\n",
            "memory usage: 484.8+ KB\n"
          ]
        }
      ]
    },
    {
      "cell_type": "markdown",
      "source": [
        "**Tipos de alojamiento**"
      ],
      "metadata": {
        "id": "wGsMLw3deriZ"
      }
    },
    {
      "cell_type": "code",
      "source": [
        "df2['room_type'].value_counts()"
      ],
      "metadata": {
        "colab": {
          "base_uri": "https://localhost:8080/"
        },
        "id": "YVfhJv32erxF",
        "outputId": "04fa5cc5-733f-4f72-d6ed-6201eebed81e"
      },
      "execution_count": 13,
      "outputs": [
        {
          "output_type": "execute_result",
          "data": {
            "text/plain": [
              "Entire home/apt    4922\n",
              "Private room       1859\n",
              "Hotel room           75\n",
              "Shared room          37\n",
              "Name: room_type, dtype: int64"
            ]
          },
          "metadata": {},
          "execution_count": 13
        }
      ]
    },
    {
      "cell_type": "markdown",
      "source": [
        "**Eliminar outliers -- datos atipicos de las variables **"
      ],
      "metadata": {
        "id": "Ud1zWMrJe2J3"
      }
    },
    {
      "cell_type": "code",
      "source": [
        "import seaborn as sns\n",
        "sns.boxplot(df2['review_scores_rating'])"
      ],
      "metadata": {
        "colab": {
          "base_uri": "https://localhost:8080/",
          "height": 353
        },
        "id": "MhMPfk3jIsAZ",
        "outputId": "fbab2d68-b9d6-4126-e2d2-6264839a7723"
      },
      "execution_count": 14,
      "outputs": [
        {
          "output_type": "stream",
          "name": "stderr",
          "text": [
            "/usr/local/lib/python3.7/dist-packages/seaborn/_decorators.py:43: FutureWarning: Pass the following variable as a keyword arg: x. From version 0.12, the only valid positional argument will be `data`, and passing other arguments without an explicit keyword will result in an error or misinterpretation.\n",
            "  FutureWarning\n"
          ]
        },
        {
          "output_type": "execute_result",
          "data": {
            "text/plain": [
              "<matplotlib.axes._subplots.AxesSubplot at 0x7f31ef2f2b10>"
            ]
          },
          "metadata": {},
          "execution_count": 14
        },
        {
          "output_type": "display_data",
          "data": {
            "text/plain": [
              "<Figure size 432x288 with 1 Axes>"
            ],
            "image/png": "[encoded data removed]"
          },
          "metadata": {
            "needs_background": "light"
          }
        }
      ]
    },
    {
      "cell_type": "code",
      "source": [
        "df2=df2[df2['review_scores_rating']>4.5 ]"
      ],
      "metadata": {
        "id": "jZfuwgXSJ5hH"
      },
      "execution_count": 15,
      "outputs": []
    },
    {
      "cell_type": "code",
      "source": [
        "sns.boxplot(df2['review_scores_rating'])"
      ],
      "metadata": {
        "colab": {
          "base_uri": "https://localhost:8080/",
          "height": 353
        },
        "id": "-ctV04QPK0LF",
        "outputId": "847b21f0-f90c-406d-d37e-4d6f28c89ec7"
      },
      "execution_count": 16,
      "outputs": [
        {
          "output_type": "stream",
          "name": "stderr",
          "text": [
            "/usr/local/lib/python3.7/dist-packages/seaborn/_decorators.py:43: FutureWarning: Pass the following variable as a keyword arg: x. From version 0.12, the only valid positional argument will be `data`, and passing other arguments without an explicit keyword will result in an error or misinterpretation.\n",
            "  FutureWarning\n"
          ]
        },
        {
          "output_type": "execute_result",
          "data": {
            "text/plain": [
              "<matplotlib.axes._subplots.AxesSubplot at 0x7f31ef0ddc10>"
            ]
          },
          "metadata": {},
          "execution_count": 16
        },
        {
          "output_type": "display_data",
          "data": {
            "text/plain": [
              "<Figure size 432x288 with 1 Axes>"
            ],
            "image/png": "[encoded data removed]"
          },
          "metadata": {
            "needs_background": "light"
          }
        }
      ]
    },
    {
      "cell_type": "markdown",
      "source": [
        "______"
      ],
      "metadata": {
        "id": "j8yV1MFJK0qY"
      }
    },
    {
      "cell_type": "markdown",
      "source": [
        "**review_scores_cleanliness**\n"
      ],
      "metadata": {
        "id": "WtWa_16bK1gB"
      }
    },
    {
      "cell_type": "code",
      "source": [
        "sns.boxplot(df2['review_scores_cleanliness'])"
      ],
      "metadata": {
        "colab": {
          "base_uri": "https://localhost:8080/",
          "height": 353
        },
        "id": "woZdM56PIwFs",
        "outputId": "fb61c7e3-724a-461c-c364-9fdcdc64d9db"
      },
      "execution_count": 17,
      "outputs": [
        {
          "output_type": "stream",
          "name": "stderr",
          "text": [
            "/usr/local/lib/python3.7/dist-packages/seaborn/_decorators.py:43: FutureWarning: Pass the following variable as a keyword arg: x. From version 0.12, the only valid positional argument will be `data`, and passing other arguments without an explicit keyword will result in an error or misinterpretation.\n",
            "  FutureWarning\n"
          ]
        },
        {
          "output_type": "execute_result",
          "data": {
            "text/plain": [
              "<matplotlib.axes._subplots.AxesSubplot at 0x7f31eec0a210>"
            ]
          },
          "metadata": {},
          "execution_count": 17
        },
        {
          "output_type": "display_data",
          "data": {
            "text/plain": [
              "<Figure size 432x288 with 1 Axes>"
            ],
            "image/png": "[encoded data removed]"
          },
          "metadata": {
            "needs_background": "light"
          }
        }
      ]
    },
    {
      "cell_type": "code",
      "source": [
        "df2=df2[df2['review_scores_cleanliness']>4.5 ]"
      ],
      "metadata": {
        "id": "LQnIb5mNLEz6"
      },
      "execution_count": 18,
      "outputs": []
    },
    {
      "cell_type": "code",
      "source": [
        "sns.boxplot(df2['review_scores_cleanliness'])"
      ],
      "metadata": {
        "colab": {
          "base_uri": "https://localhost:8080/",
          "height": 353
        },
        "id": "IZHw3fK-LIR-",
        "outputId": "00347a4b-b362-4133-ab55-2a4148d41622"
      },
      "execution_count": 19,
      "outputs": [
        {
          "output_type": "stream",
          "name": "stderr",
          "text": [
            "/usr/local/lib/python3.7/dist-packages/seaborn/_decorators.py:43: FutureWarning: Pass the following variable as a keyword arg: x. From version 0.12, the only valid positional argument will be `data`, and passing other arguments without an explicit keyword will result in an error or misinterpretation.\n",
            "  FutureWarning\n"
          ]
        },
        {
          "output_type": "execute_result",
          "data": {
            "text/plain": [
              "<matplotlib.axes._subplots.AxesSubplot at 0x7f31eeb86710>"
            ]
          },
          "metadata": {},
          "execution_count": 19
        },
        {
          "output_type": "display_data",
          "data": {
            "text/plain": [
              "<Figure size 432x288 with 1 Axes>"
            ],
            "image/png": "[encoded data removed]"
          },
          "metadata": {
            "needs_background": "light"
          }
        }
      ]
    },
    {
      "cell_type": "markdown",
      "source": [
        "**review_scores_communication**"
      ],
      "metadata": {
        "id": "pB-Em646LJhO"
      }
    },
    {
      "cell_type": "code",
      "source": [
        "sns.boxplot(df2['review_scores_communication'])"
      ],
      "metadata": {
        "colab": {
          "base_uri": "https://localhost:8080/",
          "height": 353
        },
        "id": "2ZcTv07oI0vr",
        "outputId": "8a913a3b-df60-47c0-900a-e1d623123883"
      },
      "execution_count": 20,
      "outputs": [
        {
          "output_type": "stream",
          "name": "stderr",
          "text": [
            "/usr/local/lib/python3.7/dist-packages/seaborn/_decorators.py:43: FutureWarning: Pass the following variable as a keyword arg: x. From version 0.12, the only valid positional argument will be `data`, and passing other arguments without an explicit keyword will result in an error or misinterpretation.\n",
            "  FutureWarning\n"
          ]
        },
        {
          "output_type": "execute_result",
          "data": {
            "text/plain": [
              "<matplotlib.axes._subplots.AxesSubplot at 0x7f31eebb7d50>"
            ]
          },
          "metadata": {},
          "execution_count": 20
        },
        {
          "output_type": "display_data",
          "data": {
            "text/plain": [
              "<Figure size 432x288 with 1 Axes>"
            ],
            "image/png": "[encoded data removed]"
          },
          "metadata": {
            "needs_background": "light"
          }
        }
      ]
    },
    {
      "cell_type": "code",
      "source": [
        "df2=df2[df2['review_scores_communication']>4.5 ]"
      ],
      "metadata": {
        "id": "xveDBjiLLNa2"
      },
      "execution_count": 21,
      "outputs": []
    },
    {
      "cell_type": "code",
      "source": [
        "sns.boxplot(df2['review_scores_communication'])"
      ],
      "metadata": {
        "colab": {
          "base_uri": "https://localhost:8080/",
          "height": 353
        },
        "id": "JPgirF5zLPet",
        "outputId": "02a8da29-3733-467c-96e4-73712d9261a4"
      },
      "execution_count": 22,
      "outputs": [
        {
          "output_type": "stream",
          "name": "stderr",
          "text": [
            "/usr/local/lib/python3.7/dist-packages/seaborn/_decorators.py:43: FutureWarning: Pass the following variable as a keyword arg: x. From version 0.12, the only valid positional argument will be `data`, and passing other arguments without an explicit keyword will result in an error or misinterpretation.\n",
            "  FutureWarning\n"
          ]
        },
        {
          "output_type": "execute_result",
          "data": {
            "text/plain": [
              "<matplotlib.axes._subplots.AxesSubplot at 0x7f31eeaf4510>"
            ]
          },
          "metadata": {},
          "execution_count": 22
        },
        {
          "output_type": "display_data",
          "data": {
            "text/plain": [
              "<Figure size 432x288 with 1 Axes>"
            ],
            "image/png": "[encoded data removed]"
          },
          "metadata": {
            "needs_background": "light"
          }
        }
      ]
    },
    {
      "cell_type": "code",
      "source": [
        "sns.boxplot(df2['number_of_reviews'])"
      ],
      "metadata": {
        "colab": {
          "base_uri": "https://localhost:8080/",
          "height": 353
        },
        "id": "9yyC2zbfI2vR",
        "outputId": "5de29928-e724-463b-fc7e-45ed0681cb33"
      },
      "execution_count": 23,
      "outputs": [
        {
          "output_type": "stream",
          "name": "stderr",
          "text": [
            "/usr/local/lib/python3.7/dist-packages/seaborn/_decorators.py:43: FutureWarning: Pass the following variable as a keyword arg: x. From version 0.12, the only valid positional argument will be `data`, and passing other arguments without an explicit keyword will result in an error or misinterpretation.\n",
            "  FutureWarning\n"
          ]
        },
        {
          "output_type": "execute_result",
          "data": {
            "text/plain": [
              "<matplotlib.axes._subplots.AxesSubplot at 0x7f31eea63c50>"
            ]
          },
          "metadata": {},
          "execution_count": 23
        },
        {
          "output_type": "display_data",
          "data": {
            "text/plain": [
              "<Figure size 432x288 with 1 Axes>"
            ],
            "image/png": "[encoded data removed]"
          },
          "metadata": {
            "needs_background": "light"
          }
        }
      ]
    },
    {
      "cell_type": "code",
      "source": [
        "sns.boxplot(df2['host_acceptance_rate'])"
      ],
      "metadata": {
        "colab": {
          "base_uri": "https://localhost:8080/",
          "height": 353
        },
        "id": "k9lBsXqYVS_m",
        "outputId": "1489ed84-6470-4f64-c6fd-63258116fb97"
      },
      "execution_count": 24,
      "outputs": [
        {
          "output_type": "stream",
          "name": "stderr",
          "text": [
            "/usr/local/lib/python3.7/dist-packages/seaborn/_decorators.py:43: FutureWarning: Pass the following variable as a keyword arg: x. From version 0.12, the only valid positional argument will be `data`, and passing other arguments without an explicit keyword will result in an error or misinterpretation.\n",
            "  FutureWarning\n"
          ]
        },
        {
          "output_type": "execute_result",
          "data": {
            "text/plain": [
              "<matplotlib.axes._subplots.AxesSubplot at 0x7f31ee9d7e10>"
            ]
          },
          "metadata": {},
          "execution_count": 24
        },
        {
          "output_type": "display_data",
          "data": {
            "text/plain": [
              "<Figure size 432x288 with 1 Axes>"
            ],
            "image/png": "[encoded data removed]"
          },
          "metadata": {
            "needs_background": "light"
          }
        }
      ]
    },
    {
      "cell_type": "code",
      "source": [
        "Entire=df2[df2['room_type']=='Entire home/apt']\n",
        "Private=df2[df2['room_type']=='Private room']\n",
        "Shared=df2[df2['room_type']=='Shared room']\n",
        "Hotel=df2[df2['room_type']=='Hotel room']"
      ],
      "metadata": {
        "id": "kjkaGpy9Xaht"
      },
      "execution_count": 25,
      "outputs": []
    },
    {
      "cell_type": "code",
      "source": [
        "df2['room_type'].value_counts()"
      ],
      "metadata": {
        "colab": {
          "base_uri": "https://localhost:8080/"
        },
        "id": "IMgwae69Xibz",
        "outputId": "78a46c8d-b8ba-46be-f5ac-0863a5ded714"
      },
      "execution_count": 26,
      "outputs": [
        {
          "output_type": "execute_result",
          "data": {
            "text/plain": [
              "Entire home/apt    4117\n",
              "Private room       1514\n",
              "Hotel room           55\n",
              "Shared room          19\n",
              "Name: room_type, dtype: int64"
            ]
          },
          "metadata": {},
          "execution_count": 26
        }
      ]
    },
    {
      "cell_type": "markdown",
      "source": [
        "**modelos**"
      ],
      "metadata": {
        "id": "HIy4QtNOWcQt"
      }
    },
    {
      "cell_type": "code",
      "source": [
        "Vars_Indep_E= Entire[['host_acceptance_rate','review_scores_rating','review_scores_cleanliness','review_scores_communication']]\n",
        "Vars_Indep_P= Private[['host_acceptance_rate','review_scores_rating','review_scores_cleanliness','review_scores_communication']]\n",
        "Vars_Indep_S= Shared[['host_acceptance_rate','review_scores_rating','review_scores_cleanliness','review_scores_communication']]\n",
        "Vars_Indep_H= Hotel[['host_acceptance_rate','review_scores_rating','review_scores_cleanliness','review_scores_communication']]\n",
        "yE= Entire['number_of_reviews']\n",
        "yP= Private['number_of_reviews']\n",
        "yS= Shared['number_of_reviews']\n",
        "yH= Hotel['number_of_reviews']"
      ],
      "metadata": {
        "id": "eaJl7D9mYNtK"
      },
      "execution_count": 27,
      "outputs": []
    },
    {
      "cell_type": "code",
      "source": [
        "#Se define model como la función de regresión lineal\n",
        "from sklearn.linear_model import LinearRegression\n",
        "modelE= LinearRegression()\n",
        "modelP= LinearRegression()\n",
        "modelS= LinearRegression()\n",
        "modelH= LinearRegression()"
      ],
      "metadata": {
        "id": "e_a9R-hxfg7s"
      },
      "execution_count": 28,
      "outputs": []
    },
    {
      "cell_type": "code",
      "source": [
        "type(modelE)"
      ],
      "metadata": {
        "colab": {
          "base_uri": "https://localhost:8080/"
        },
        "id": "wuf77xoPfiqo",
        "outputId": "436760d4-819a-43a9-b9b8-11701d60041b"
      },
      "execution_count": 31,
      "outputs": [
        {
          "output_type": "execute_result",
          "data": {
            "text/plain": [
              "sklearn.linear_model._base.LinearRegression"
            ]
          },
          "metadata": {},
          "execution_count": 31
        }
      ]
    },
    {
      "cell_type": "code",
      "source": [
        "modelE.fit(X=Vars_Indep_E, y=yE)\n",
        "modelP.fit(X=Vars_Indep_P, y=yP)\n",
        "modelS.fit(X=Vars_Indep_S, y=yS)\n",
        "modelH.fit(X=Vars_Indep_H, y=yH)"
      ],
      "metadata": {
        "colab": {
          "base_uri": "https://localhost:8080/"
        },
        "id": "vKCZg5L4fkK9",
        "outputId": "a6021372-305f-4581-8050-d601387a9312"
      },
      "execution_count": 32,
      "outputs": [
        {
          "output_type": "execute_result",
          "data": {
            "text/plain": [
              "LinearRegression()"
            ]
          },
          "metadata": {},
          "execution_count": 32
        }
      ]
    },
    {
      "cell_type": "code",
      "source": [
        "modelE.__dict__\n",
        "modelP.__dict__\n",
        "modelS.__dict__\n",
        "modelH.__dict__"
      ],
      "metadata": {
        "colab": {
          "base_uri": "https://localhost:8080/"
        },
        "id": "_6iAlZYgf2x5",
        "outputId": "ead49480-640d-4ca5-ad6d-151711dbffd3"
      },
      "execution_count": 33,
      "outputs": [
        {
          "output_type": "execute_result",
          "data": {
            "text/plain": [
              "{'fit_intercept': True,\n",
              " 'normalize': 'deprecated',\n",
              " 'copy_X': True,\n",
              " 'n_jobs': None,\n",
              " 'positive': False,\n",
              " 'feature_names_in_': array(['host_acceptance_rate', 'review_scores_rating',\n",
              "        'review_scores_cleanliness', 'review_scores_communication'],\n",
              "       dtype=object),\n",
              " 'n_features_in_': 4,\n",
              " 'coef_': array([   3.46387843,  353.937207  , -430.41430491,  173.19837404]),\n",
              " '_residues': 2339501.3301394684,\n",
              " 'rank_': 4,\n",
              " 'singular_': array([66.67851409,  1.30093971,  0.58838529,  0.31846328]),\n",
              " 'intercept_': -706.1938553046283}"
            ]
          },
          "metadata": {},
          "execution_count": 33
        }
      ]
    },
    {
      "cell_type": "code",
      "source": [
        "modelE.score(X=Vars_Indep_E, y=yE)\n",
        "modelP.score(X=Vars_Indep_P, y=yP)\n",
        "modelS.score(X=Vars_Indep_S, y=yS)\n",
        "modelH.score(X=Vars_Indep_H, y=yH)"
      ],
      "metadata": {
        "colab": {
          "base_uri": "https://localhost:8080/"
        },
        "id": "mnFXJBO0f5Qp",
        "outputId": "81e9b74c-c1d8-4100-f8cc-73f25ae624c2"
      },
      "execution_count": 34,
      "outputs": [
        {
          "output_type": "execute_result",
          "data": {
            "text/plain": [
              "0.03741470246684109"
            ]
          },
          "metadata": {},
          "execution_count": 34
        }
      ]
    },
    {
      "cell_type": "code",
      "source": [
        "y_pred= modelE.predict(X=Entire[['host_acceptance_rate','review_scores_rating','review_scores_cleanliness','review_scores_communication']])\n",
        "y_pred"
      ],
      "metadata": {
        "colab": {
          "base_uri": "https://localhost:8080/"
        },
        "id": "c-WM0n0Xf7Ek",
        "outputId": "7c0fd5ce-9660-4529-b9f0-b9089bab9fc1"
      },
      "execution_count": 35,
      "outputs": [
        {
          "output_type": "execute_result",
          "data": {
            "text/plain": [
              "array([28.86814034, 13.85295889,  5.66343999, ..., 44.50173844,\n",
              "       -5.40678952, 21.72696114])"
            ]
          },
          "metadata": {},
          "execution_count": 35
        }
      ]
    },
    {
      "cell_type": "code",
      "source": [
        "y_pred1= modelE.predict(X=Private[['host_acceptance_rate','review_scores_rating','review_scores_cleanliness','review_scores_communication']])\n",
        "y_pred1"
      ],
      "metadata": {
        "colab": {
          "base_uri": "https://localhost:8080/"
        },
        "id": "94kQfq0-ebQ3",
        "outputId": "5546a26f-7925-4a84-8407-f38e8274d028"
      },
      "execution_count": 36,
      "outputs": [
        {
          "output_type": "execute_result",
          "data": {
            "text/plain": [
              "array([32.9934697 , 32.05467332, 35.50004703, ..., 31.98899954,\n",
              "       51.87499592, 42.51385918])"
            ]
          },
          "metadata": {},
          "execution_count": 36
        }
      ]
    },
    {
      "cell_type": "code",
      "source": [
        "y_pred2= modelE.predict(X=Shared[['host_acceptance_rate','review_scores_rating','review_scores_cleanliness','review_scores_communication']])\n",
        "y_pred2"
      ],
      "metadata": {
        "colab": {
          "base_uri": "https://localhost:8080/"
        },
        "id": "-Ah6l68yesYf",
        "outputId": "e52b8ff5-ee0a-4e95-ceb2-4719a9198d75"
      },
      "execution_count": 37,
      "outputs": [
        {
          "output_type": "execute_result",
          "data": {
            "text/plain": [
              "array([34.76142291, 46.56545104, 30.66083876, 33.6291441 , 62.85473245,\n",
              "       41.19780836, 41.15256582, 30.20760787, 63.09256786, 62.45052939,\n",
              "       43.04968679, 24.05898159, 37.28689842, 57.33791161, 40.45803234,\n",
              "       50.72397524, 61.63573835, 47.42041147, 34.88702458])"
            ]
          },
          "metadata": {},
          "execution_count": 37
        }
      ]
    },
    {
      "cell_type": "code",
      "source": [
        "y_pred3= modelE.predict(X=Hotel[['host_acceptance_rate','review_scores_rating','review_scores_cleanliness','review_scores_communication']])\n",
        "y_pred3"
      ],
      "metadata": {
        "colab": {
          "base_uri": "https://localhost:8080/"
        },
        "id": "qWtWP6UpgT7O",
        "outputId": "2a92dc7e-4283-4c37-a45a-011a819de5aa"
      },
      "execution_count": 38,
      "outputs": [
        {
          "output_type": "execute_result",
          "data": {
            "text/plain": [
              "array([37.68873272, 34.60208497, 62.50206223, 60.84351964, 41.52763276,\n",
              "       46.52264351, 25.22344767, 38.49454884, 43.3227161 , 34.25196066,\n",
              "       35.42673376, 40.95428505, 45.8595473 , 45.07565683, 36.74909557,\n",
              "       33.7651742 , 33.37241262, 51.5208436 , 33.97819041, 37.28689842,\n",
              "       43.58627916, 24.05898159, 25.51810538, 41.59785304, 68.99473681,\n",
              "       58.43574173, 39.74443815, 72.84120033, 29.89547675, 23.76432388,\n",
              "       47.25005635, 66.20645251, 50.69241308, 37.83360169, 68.18892069,\n",
              "       39.72468871, 60.30042581, 36.61179006, 31.49343557, 36.82836677,\n",
              "       40.39992202, 46.89412612, 50.58923743, 38.12825941, 43.1211211 ,\n",
              "       43.1211211 , 43.1211211 , 79.41256864, 28.38823554, 43.1211211 ,\n",
              "       39.19763859, 41.94249025, 30.74549723, 30.4241324 , 39.29057085])"
            ]
          },
          "metadata": {},
          "execution_count": 38
        }
      ]
    },
    {
      "cell_type": "code",
      "source": [
        "#Entire\n",
        "coef_Deter=modelE.score(X=Vars_Indep_E, y=yE)\n",
        "coef_Deter"
      ],
      "metadata": {
        "colab": {
          "base_uri": "https://localhost:8080/"
        },
        "id": "XTUfg4K7Sw4J",
        "outputId": "fd403ba4-09e9-4705-d7ec-6442ab9befd9"
      },
      "execution_count": 39,
      "outputs": [
        {
          "output_type": "execute_result",
          "data": {
            "text/plain": [
              "0.052263208802454164"
            ]
          },
          "metadata": {},
          "execution_count": 39
        }
      ]
    },
    {
      "cell_type": "code",
      "source": [
        "#Entire\n",
        "coef_Correl=np.sqrt(coef_Deter)\n",
        "coef_Correl"
      ],
      "metadata": {
        "colab": {
          "base_uri": "https://localhost:8080/"
        },
        "id": "kzevQmKkS03B",
        "outputId": "c3fe41d7-81b0-472d-a1ad-adb1364d10b6"
      },
      "execution_count": 40,
      "outputs": [
        {
          "output_type": "execute_result",
          "data": {
            "text/plain": [
              "0.22861148003207135"
            ]
          },
          "metadata": {},
          "execution_count": 40
        }
      ]
    },
    {
      "cell_type": "code",
      "source": [
        "# Private \n",
        "coef_Deter1=modelE.score(X=Vars_Indep_P, y=yP)\n",
        "coef_Deter1"
      ],
      "metadata": {
        "colab": {
          "base_uri": "https://localhost:8080/"
        },
        "id": "b7-ondsZgdE_",
        "outputId": "80c2e496-7d14-4ac8-ba71-374e233b22a1"
      },
      "execution_count": 41,
      "outputs": [
        {
          "output_type": "execute_result",
          "data": {
            "text/plain": [
              "-0.3023002335970848"
            ]
          },
          "metadata": {},
          "execution_count": 41
        }
      ]
    },
    {
      "cell_type": "code",
      "source": [
        "coef_Correl1=np.sqrt(coef_Deter1)\n",
        "coef_Correl1"
      ],
      "metadata": {
        "colab": {
          "base_uri": "https://localhost:8080/"
        },
        "id": "G2SHjHc5gify",
        "outputId": "de6eecda-b48e-429d-97fd-da288e6d2058"
      },
      "execution_count": 42,
      "outputs": [
        {
          "output_type": "stream",
          "name": "stderr",
          "text": [
            "/usr/local/lib/python3.7/dist-packages/ipykernel_launcher.py:1: RuntimeWarning: invalid value encountered in sqrt\n",
            "  \"\"\"Entry point for launching an IPython kernel.\n"
          ]
        },
        {
          "output_type": "execute_result",
          "data": {
            "text/plain": [
              "nan"
            ]
          },
          "metadata": {},
          "execution_count": 42
        }
      ]
    },
    {
      "cell_type": "code",
      "source": [
        "# Shared\n",
        "coef_Deter2=modelE.score(X=Vars_Indep_S, y=yS)\n",
        "coef_Deter2"
      ],
      "metadata": {
        "colab": {
          "base_uri": "https://localhost:8080/"
        },
        "id": "Q2HcU0Rigmcy",
        "outputId": "fd43dc6d-5c1f-46d3-bdfb-511008e7f664"
      },
      "execution_count": 43,
      "outputs": [
        {
          "output_type": "execute_result",
          "data": {
            "text/plain": [
              "0.0999722678740611"
            ]
          },
          "metadata": {},
          "execution_count": 43
        }
      ]
    },
    {
      "cell_type": "code",
      "source": [
        "coef_Correl2=np.sqrt(coef_Deter2)\n",
        "coef_Correl2"
      ],
      "metadata": {
        "colab": {
          "base_uri": "https://localhost:8080/"
        },
        "id": "Ai_Ua9Szg0kz",
        "outputId": "028c9013-bbb3-490a-fd34-f2b9e96c9ca9"
      },
      "execution_count": 44,
      "outputs": [
        {
          "output_type": "execute_result",
          "data": {
            "text/plain": [
              "0.31618391463523426"
            ]
          },
          "metadata": {},
          "execution_count": 44
        }
      ]
    },
    {
      "cell_type": "code",
      "source": [
        "# Hotel\n",
        "coef_Deter3=modelE.score(X=Vars_Indep_H, y=yH)\n",
        "coef_Deter3"
      ],
      "metadata": {
        "colab": {
          "base_uri": "https://localhost:8080/"
        },
        "id": "Q0TrA74uhAA3",
        "outputId": "abb15d2b-620c-4677-f42e-b7607cfdeda0"
      },
      "execution_count": 45,
      "outputs": [
        {
          "output_type": "execute_result",
          "data": {
            "text/plain": [
              "-0.061512575561648575"
            ]
          },
          "metadata": {},
          "execution_count": 45
        }
      ]
    },
    {
      "cell_type": "code",
      "source": [
        "coef_Correl3=np.sqrt(coef_Deter3)\n",
        "coef_Correl3"
      ],
      "metadata": {
        "colab": {
          "base_uri": "https://localhost:8080/"
        },
        "id": "-KVpxFxshD7X",
        "outputId": "71129326-3550-4aaa-d2cf-ba01bf9254e3"
      },
      "execution_count": 46,
      "outputs": [
        {
          "output_type": "stream",
          "name": "stderr",
          "text": [
            "/usr/local/lib/python3.7/dist-packages/ipykernel_launcher.py:1: RuntimeWarning: invalid value encountered in sqrt\n",
            "  \"\"\"Entry point for launching an IPython kernel.\n"
          ]
        },
        {
          "output_type": "execute_result",
          "data": {
            "text/plain": [
              "nan"
            ]
          },
          "metadata": {},
          "execution_count": 46
        }
      ]
    }
  ]
}